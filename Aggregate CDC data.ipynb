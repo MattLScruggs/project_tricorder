{
 "cells": [
  {
   "cell_type": "markdown",
   "metadata": {
    "id": "UZCoheMwO_ot"
   },
   "source": [
    "# Install dependencies and set up Socrata API"
   ]
  },
  {
   "cell_type": "code",
   "execution_count": 2,
   "metadata": {
    "colab": {
     "base_uri": "https://localhost:8080/"
    },
    "executionInfo": {
     "elapsed": 57231,
     "status": "ok",
     "timestamp": 1703193200432,
     "user": {
      "displayName": "Matt Scruggs",
      "userId": "15062721702591421463"
     },
     "user_tz": 360
    },
    "id": "rruFQrJKAsYG",
    "outputId": "2e95d288-b719-4888-bf51-ea320412eb25"
   },
   "outputs": [
    {
     "name": "stderr",
     "output_type": "stream",
     "text": [
      "WARNING:root:Requests made without an app_token will be subject to strict throttling limits.\n"
     ]
    }
   ],
   "source": [
    "import numpy as np\n",
    "import pandas as pd\n",
    "import sodapy\n",
    "from sodapy import Socrata\n",
    "import matplotlib.pyplot as plt\n",
    "from datetime import datetime\n",
    "client = Socrata(\"data.cdc.gov\", None) #add app token from CDC.gov profile"
   ]
  },
  {
   "cell_type": "markdown",
   "metadata": {
    "id": "4BuKUfNrPE1o"
   },
   "source": [
    "# COVID-19 Total 7-day Admissions per 100k"
   ]
  },
  {
   "cell_type": "code",
   "execution_count": 3,
   "metadata": {
    "executionInfo": {
     "elapsed": 2780,
     "status": "ok",
     "timestamp": 1703193210509,
     "user": {
      "displayName": "Matt Scruggs",
      "userId": "15062721702591421463"
     },
     "user_tz": 360
    },
    "id": "rvSXbk4vciiM"
   },
   "outputs": [],
   "source": [
    "results = client.get(\"7dk4-g6vg\", limit = 100000)"
   ]
  },
  {
   "cell_type": "code",
   "execution_count": 4,
   "metadata": {
    "colab": {
     "base_uri": "https://localhost:8080/"
    },
    "executionInfo": {
     "elapsed": 2,
     "status": "ok",
     "timestamp": 1703193210509,
     "user": {
      "displayName": "Matt Scruggs",
      "userId": "15062721702591421463"
     },
     "user_tz": 360
    },
    "id": "cbE5A4ZGcrS8",
    "outputId": "12225450-f46d-454c-9162-80c43e768d20"
   },
   "outputs": [
    {
     "name": "stdout",
     "output_type": "stream",
     "text": [
      "(12903, 12)\n",
      "week_ending_date                   object\n",
      "state                              object\n",
      "avg_adm_all_covid_confirmed        object\n",
      "pct_chg_avg_adm_all_covid          object\n",
      "total_adm_all_covid_confirmed      object\n",
      "total_adm_all_covid_confirmed_1    object\n",
      "sum_adm_all_covid_confirmed        object\n",
      "avg_total_patients                 object\n",
      "avg_percent_inpatient_beds         object\n",
      "abs_chg_avg_percent_inpatient      object\n",
      "avg_percent_staff_icu_beds         object\n",
      "abs_chg_avg_percent_staff          object\n",
      "dtype: object\n"
     ]
    },
    {
     "data": {
      "text/plain": [
       "Index(['week_ending_date', 'state', 'avg_adm_all_covid_confirmed',\n",
       "       'pct_chg_avg_adm_all_covid', 'total_adm_all_covid_confirmed',\n",
       "       'total_adm_all_covid_confirmed_1', 'sum_adm_all_covid_confirmed',\n",
       "       'avg_total_patients', 'avg_percent_inpatient_beds',\n",
       "       'abs_chg_avg_percent_inpatient', 'avg_percent_staff_icu_beds',\n",
       "       'abs_chg_avg_percent_staff'],\n",
       "      dtype='object')"
      ]
     },
     "execution_count": 4,
     "metadata": {},
     "output_type": "execute_result"
    }
   ],
   "source": [
    "full_data=pd.DataFrame.from_records(results)\n",
    "print(full_data.shape)\n",
    "print(full_data.dtypes)\n",
    "full_data.columns"
   ]
  },
  {
   "cell_type": "code",
   "execution_count": 5,
   "metadata": {
    "executionInfo": {
     "elapsed": 665,
     "status": "ok",
     "timestamp": 1703193211173,
     "user": {
      "displayName": "Matt Scruggs",
      "userId": "15062721702591421463"
     },
     "user_tz": 360
    },
    "id": "AMzulPI3MG08"
   },
   "outputs": [],
   "source": [
    "full_data=full_data.rename({\n",
    "                 'state':'geo_location',\n",
    "                 'avg_adm_all_covid_confirmed':'new_adm_7day_avg',\n",
    "                 'total_adm_all_covid_confirmed':'new_adm_7day_total',\n",
    "                 'total_adm_all_covid_confirmed_1':'new_adm_7day_total_per100k',\n",
    "                 'avg_percent_inpatient_beds':'inpatient_bed_occ_7day_avg',\n",
    "                 'avg_percent_staff_icu_beds':'icu_bed_occ_7day_avg'},axis=1).astype({\n",
    "                 'new_adm_7day_avg':'float64',\n",
    "                 'new_adm_7day_total':'float64',\n",
    "                 'new_adm_7day_total_per100k':'float64',\n",
    "                 'inpatient_bed_occ_7day_avg':'float64',\n",
    "                 'icu_bed_occ_7day_avg':'float64'},errors = 'raise')[['week_ending_date','geo_location','new_adm_7day_total_per100k','inpatient_bed_occ_7day_avg','icu_bed_occ_7day_avg']]"
   ]
  },
  {
   "cell_type": "code",
   "execution_count": 6,
   "metadata": {
    "executionInfo": {
     "elapsed": 2,
     "status": "ok",
     "timestamp": 1703193212102,
     "user": {
      "displayName": "Matt Scruggs",
      "userId": "15062721702591421463"
     },
     "user_tz": 360
    },
    "id": "UpU1qqNNMMWP"
   },
   "outputs": [],
   "source": [
    "full_data['week']=pd.to_datetime(full_data['week_ending_date'])\n",
    "full_data=full_data.set_index(['week']).drop(columns=['week_ending_date','inpatient_bed_occ_7day_avg','icu_bed_occ_7day_avg'])"
   ]
  },
  {
   "cell_type": "code",
   "execution_count": 7,
   "metadata": {
    "executionInfo": {
     "elapsed": 2,
     "status": "ok",
     "timestamp": 1703193213754,
     "user": {
      "displayName": "Matt Scruggs",
      "userId": "15062721702591421463"
     },
     "user_tz": 360
    },
    "id": "VclGxRmdMO8a"
   },
   "outputs": [],
   "source": [
    "case_data=full_data.pivot(columns='geo_location',values = 'new_adm_7day_total_per100k')"
   ]
  },
  {
   "cell_type": "code",
   "execution_count": 8,
   "metadata": {
    "executionInfo": {
     "elapsed": 589,
     "status": "ok",
     "timestamp": 1703193215967,
     "user": {
      "displayName": "Matt Scruggs",
      "userId": "15062721702591421463"
     },
     "user_tz": 360
    },
    "id": "g9EhV0E9UOF-"
   },
   "outputs": [],
   "source": [
    "#case_data.to_csv('/drive/MyDrive/Documents/latest_covid_adm_data.csv')"
   ]
  },
  {
   "cell_type": "code",
   "execution_count": 9,
   "metadata": {
    "colab": {
     "base_uri": "https://localhost:8080/"
    },
    "executionInfo": {
     "elapsed": 2,
     "status": "ok",
     "timestamp": 1703193216820,
     "user": {
      "displayName": "Matt Scruggs",
      "userId": "15062721702591421463"
     },
     "user_tz": 360
    },
    "id": "XCywaUkoMXT3",
    "outputId": "97df0ce6-42c7-40d5-b074-d7e5144046b0"
   },
   "outputs": [
    {
     "data": {
      "text/plain": [
       "week\n",
       "2020-08-08    9.524743\n",
       "2020-08-15    8.996444\n",
       "2020-08-22    8.862412\n",
       "2020-08-29    8.491940\n",
       "2020-09-05    7.970267\n",
       "Name: New_COVID_7DayADM_rate, dtype: float64"
      ]
     },
     "execution_count": 9,
     "metadata": {},
     "output_type": "execute_result"
    }
   ],
   "source": [
    "us_data=case_data['USA']\n",
    "us_data.name='New_COVID_7DayADM_rate'\n",
    "us_data.head()"
   ]
  },
  {
   "cell_type": "code",
   "execution_count": 10,
   "metadata": {
    "colab": {
     "base_uri": "https://localhost:8080/",
     "height": 631
    },
    "executionInfo": {
     "elapsed": 687,
     "status": "ok",
     "timestamp": 1703193220573,
     "user": {
      "displayName": "Matt Scruggs",
      "userId": "15062721702591421463"
     },
     "user_tz": 360
    },
    "id": "LYAsoBbcOT5a",
    "outputId": "0e3b515d-f94a-4ecf-c83d-00d5a22900d8"
   },
   "outputs": [
    {
     "data": {
      "image/png": "[encoded data removed]",
      "text/plain": [
       "<Figure size 1600x800 with 1 Axes>"
      ]
     },
     "metadata": {},
     "output_type": "display_data"
    }
   ],
   "source": [
    "fig, ax = plt.subplots(figsize = (16,8))\n",
    "ax.plot(us_data)\n",
    "fig.autofmt_xdate()"
   ]
  },
  {
   "cell_type": "markdown",
   "metadata": {
    "id": "QelBYF5mOk_s"
   },
   "source": [
    "# NSSP ER Visits- COVID, Flu, RSV, Combined percentage of all ER Visits"
   ]
  },
  {
   "cell_type": "code",
   "execution_count": 11,
   "metadata": {
    "executionInfo": {
     "elapsed": 291,
     "status": "ok",
     "timestamp": 1703193228954,
     "user": {
      "displayName": "Matt Scruggs",
      "userId": "15062721702591421463"
     },
     "user_tz": 360
    },
    "id": "cWoHI02HOkkx"
   },
   "outputs": [],
   "source": [
    "er_visit_results=client.get('vutn-jzwm', limit = 20000)"
   ]
  },
  {
   "cell_type": "code",
   "execution_count": 12,
   "metadata": {
    "colab": {
     "base_uri": "https://localhost:8080/"
    },
    "executionInfo": {
     "elapsed": 180,
     "status": "ok",
     "timestamp": 1703193229916,
     "user": {
      "displayName": "Matt Scruggs",
      "userId": "15062721702591421463"
     },
     "user_tz": 360
    },
    "id": "9bV9wxN8PQ76",
    "outputId": "81e24a9b-3894-41e7-8315-b78d1343d50f"
   },
   "outputs": [
    {
     "name": "stdout",
     "output_type": "stream",
     "text": [
      "(20000, 4)\n",
      "week_end          object\n",
      "pathogen          object\n",
      "geography         object\n",
      "percent_visits    object\n",
      "dtype: object\n"
     ]
    },
    {
     "data": {
      "text/plain": [
       "Index(['week_end', 'pathogen', 'geography', 'percent_visits'], dtype='object')"
      ]
     },
     "execution_count": 12,
     "metadata": {},
     "output_type": "execute_result"
    }
   ],
   "source": [
    "full_data=pd.DataFrame.from_records(er_visit_results)\n",
    "print(full_data.shape)\n",
    "print(full_data.dtypes)\n",
    "full_data.columns"
   ]
  },
  {
   "cell_type": "code",
   "execution_count": 13,
   "metadata": {
    "executionInfo": {
     "elapsed": 200,
     "status": "ok",
     "timestamp": 1703193231558,
     "user": {
      "displayName": "Matt Scruggs",
      "userId": "15062721702591421463"
     },
     "user_tz": 360
    },
    "id": "9rQuAdz_PZ8R"
   },
   "outputs": [],
   "source": [
    "full_data=full_data.astype({'percent_visits': 'float64'})"
   ]
  },
  {
   "cell_type": "code",
   "execution_count": 14,
   "metadata": {
    "executionInfo": {
     "elapsed": 1,
     "status": "ok",
     "timestamp": 1703193232602,
     "user": {
      "displayName": "Matt Scruggs",
      "userId": "15062721702591421463"
     },
     "user_tz": 360
    },
    "id": "kxyQX_P0QCSd"
   },
   "outputs": [],
   "source": [
    "full_data['week']=pd.to_datetime(full_data['week_end'])"
   ]
  },
  {
   "cell_type": "code",
   "execution_count": 15,
   "metadata": {
    "executionInfo": {
     "elapsed": 210,
     "status": "ok",
     "timestamp": 1703194417901,
     "user": {
      "displayName": "Matt Scruggs",
      "userId": "15062721702591421463"
     },
     "user_tz": 360
    },
    "id": "GU-uveAUQbv4"
   },
   "outputs": [],
   "source": [
    "rate_data=full_data.loc[(full_data['geography']=='United States')].drop(columns = ['week_end','geography']).set_index(['week'])"
   ]
  },
  {
   "cell_type": "code",
   "execution_count": 16,
   "metadata": {
    "colab": {
     "base_uri": "https://localhost:8080/",
     "height": 238
    },
    "executionInfo": {
     "elapsed": 191,
     "status": "ok",
     "timestamp": 1703194406886,
     "user": {
      "displayName": "Matt Scruggs",
      "userId": "15062721702591421463"
     },
     "user_tz": 360
    },
    "id": "xs-OnYr7TTzI",
    "outputId": "000b6e75-eb0d-49ed-989d-4913b3dfc082"
   },
   "outputs": [
    {
     "data": {
      "text/html": [
       "<div>\n",
       "<style scoped>\n",
       "    .dataframe tbody tr th:only-of-type {\n",
       "        vertical-align: middle;\n",
       "    }\n",
       "\n",
       "    .dataframe tbody tr th {\n",
       "        vertical-align: top;\n",
       "    }\n",
       "\n",
       "    .dataframe thead th {\n",
       "        text-align: right;\n",
       "    }\n",
       "</style>\n",
       "<table border=\"1\" class=\"dataframe\">\n",
       "  <thead>\n",
       "    <tr style=\"text-align: right;\">\n",
       "      <th>pathogen</th>\n",
       "      <th>COVID-19</th>\n",
       "      <th>Combined</th>\n",
       "      <th>Influenza</th>\n",
       "      <th>RSV</th>\n",
       "    </tr>\n",
       "    <tr>\n",
       "      <th>week</th>\n",
       "      <th></th>\n",
       "      <th></th>\n",
       "      <th></th>\n",
       "      <th></th>\n",
       "    </tr>\n",
       "  </thead>\n",
       "  <tbody>\n",
       "    <tr>\n",
       "      <th>2022-10-01</th>\n",
       "      <td>1.8</td>\n",
       "      <td>2.8</td>\n",
       "      <td>0.5</td>\n",
       "      <td>0.5</td>\n",
       "    </tr>\n",
       "    <tr>\n",
       "      <th>2022-10-08</th>\n",
       "      <td>1.7</td>\n",
       "      <td>2.9</td>\n",
       "      <td>0.7</td>\n",
       "      <td>0.6</td>\n",
       "    </tr>\n",
       "    <tr>\n",
       "      <th>2022-10-15</th>\n",
       "      <td>1.6</td>\n",
       "      <td>3.2</td>\n",
       "      <td>0.9</td>\n",
       "      <td>0.7</td>\n",
       "    </tr>\n",
       "    <tr>\n",
       "      <th>2022-10-22</th>\n",
       "      <td>1.6</td>\n",
       "      <td>3.7</td>\n",
       "      <td>1.3</td>\n",
       "      <td>0.8</td>\n",
       "    </tr>\n",
       "    <tr>\n",
       "      <th>2022-10-29</th>\n",
       "      <td>1.7</td>\n",
       "      <td>5.1</td>\n",
       "      <td>2.5</td>\n",
       "      <td>1.0</td>\n",
       "    </tr>\n",
       "  </tbody>\n",
       "</table>\n",
       "</div>"
      ],
      "text/plain": [
       "pathogen    COVID-19  Combined  Influenza  RSV\n",
       "week                                          \n",
       "2022-10-01       1.8       2.8        0.5  0.5\n",
       "2022-10-08       1.7       2.9        0.7  0.6\n",
       "2022-10-15       1.6       3.2        0.9  0.7\n",
       "2022-10-22       1.6       3.7        1.3  0.8\n",
       "2022-10-29       1.7       5.1        2.5  1.0"
      ]
     },
     "execution_count": 16,
     "metadata": {},
     "output_type": "execute_result"
    }
   ],
   "source": [
    "er_adm_data= rate_data.pivot(columns = 'pathogen', values='percent_visits')\n",
    "er_adm_data.head()"
   ]
  },
  {
   "cell_type": "code",
   "execution_count": 17,
   "metadata": {},
   "outputs": [
    {
     "data": {
      "text/html": [
       "<div>\n",
       "<style scoped>\n",
       "    .dataframe tbody tr th:only-of-type {\n",
       "        vertical-align: middle;\n",
       "    }\n",
       "\n",
       "    .dataframe tbody tr th {\n",
       "        vertical-align: top;\n",
       "    }\n",
       "\n",
       "    .dataframe thead th {\n",
       "        text-align: right;\n",
       "    }\n",
       "</style>\n",
       "<table border=\"1\" class=\"dataframe\">\n",
       "  <thead>\n",
       "    <tr style=\"text-align: right;\">\n",
       "      <th></th>\n",
       "      <th>ER_adm</th>\n",
       "    </tr>\n",
       "    <tr>\n",
       "      <th>week</th>\n",
       "      <th></th>\n",
       "    </tr>\n",
       "  </thead>\n",
       "  <tbody>\n",
       "    <tr>\n",
       "      <th>2022-10-01</th>\n",
       "      <td>1.8</td>\n",
       "    </tr>\n",
       "    <tr>\n",
       "      <th>2022-10-08</th>\n",
       "      <td>1.7</td>\n",
       "    </tr>\n",
       "    <tr>\n",
       "      <th>2022-10-15</th>\n",
       "      <td>1.6</td>\n",
       "    </tr>\n",
       "    <tr>\n",
       "      <th>2022-10-22</th>\n",
       "      <td>1.6</td>\n",
       "    </tr>\n",
       "    <tr>\n",
       "      <th>2022-10-29</th>\n",
       "      <td>1.7</td>\n",
       "    </tr>\n",
       "  </tbody>\n",
       "</table>\n",
       "</div>"
      ],
      "text/plain": [
       "            ER_adm\n",
       "week              \n",
       "2022-10-01     1.8\n",
       "2022-10-08     1.7\n",
       "2022-10-15     1.6\n",
       "2022-10-22     1.6\n",
       "2022-10-29     1.7"
      ]
     },
     "execution_count": 17,
     "metadata": {},
     "output_type": "execute_result"
    }
   ],
   "source": [
    "covid_er_data=pd.DataFrame(er_adm_data.iloc[:,0])\n",
    "covid_er_data.rename(columns={'COVID-19':'ER_adm'},inplace=True)\n",
    "covid_er_data.head()"
   ]
  },
  {
   "cell_type": "code",
   "execution_count": 18,
   "metadata": {
    "executionInfo": {
     "elapsed": 2,
     "status": "ok",
     "timestamp": 1703194408201,
     "user": {
      "displayName": "Matt Scruggs",
      "userId": "15062721702591421463"
     },
     "user_tz": 360
    },
    "id": "N_ydvQC3UTs0"
   },
   "outputs": [],
   "source": [
    "#er_adm_data.to_csv('/drive/MyDrive/Documents/latest_er_adm_data.csv')"
   ]
  },
  {
   "cell_type": "code",
   "execution_count": 19,
   "metadata": {
    "colab": {
     "base_uri": "https://localhost:8080/",
     "height": 648
    },
    "executionInfo": {
     "elapsed": 542,
     "status": "ok",
     "timestamp": 1703194409823,
     "user": {
      "displayName": "Matt Scruggs",
      "userId": "15062721702591421463"
     },
     "user_tz": 360
    },
    "id": "i9ywpwQrTzX3",
    "outputId": "d9d3f877-91c7-40ca-d308-114fa2f9344c"
   },
   "outputs": [
    {
     "data": {
      "text/plain": [
       "<matplotlib.legend.Legend at 0x15faa5f95b0>"
      ]
     },
     "execution_count": 19,
     "metadata": {},
     "output_type": "execute_result"
    },
    {
     "data": {
      "image/png": "[encoded data removed]",
      "text/plain": [
       "<Figure size 1600x800 with 1 Axes>"
      ]
     },
     "metadata": {},
     "output_type": "display_data"
    }
   ],
   "source": [
    "fig, ax = plt.subplots(figsize = (16,8))\n",
    "ax.plot(er_adm_data)\n",
    "fig.autofmt_xdate()\n",
    "plt.legend(['COVID-19','Combined','Influenza','RSV'], loc='upper right')"
   ]
  },
  {
   "cell_type": "markdown",
   "metadata": {
    "id": "HKi3liIhTqGt"
   },
   "source": [
    "# Lab-Confirmed Hospitalizations of the Big Three (Rate per 100k)"
   ]
  },
  {
   "cell_type": "code",
   "execution_count": 20,
   "metadata": {
    "executionInfo": {
     "elapsed": 1199,
     "status": "ok",
     "timestamp": 1703194643440,
     "user": {
      "displayName": "Matt Scruggs",
      "userId": "15062721702591421463"
     },
     "user_tz": 360
    },
    "id": "YBPG53hQTowd"
   },
   "outputs": [],
   "source": [
    "lab_results = client.get(\"kvib-3txy\", limit = 100000)"
   ]
  },
  {
   "cell_type": "code",
   "execution_count": 21,
   "metadata": {
    "colab": {
     "base_uri": "https://localhost:8080/"
    },
    "executionInfo": {
     "elapsed": 2,
     "status": "ok",
     "timestamp": 1703194644531,
     "user": {
      "displayName": "Matt Scruggs",
      "userId": "15062721702591421463"
     },
     "user_tz": 360
    },
    "id": "o_x57OngT3Bf",
    "outputId": "db803c06-4622-4ef1-e6a1-69e174e9cd9e"
   },
   "outputs": [
    {
     "name": "stdout",
     "output_type": "stream",
     "text": [
      "(43418, 12)\n",
      "surveillance_network    object\n",
      "season                  object\n",
      "mmwr_year               object\n",
      "mmwr_week               object\n",
      "age_group               object\n",
      "sex                     object\n",
      "race_ethnicity          object\n",
      "site                    object\n",
      "weekly_rate             object\n",
      "cumulative_rate         object\n",
      "_weekenddate            object\n",
      "type                    object\n",
      "dtype: object\n"
     ]
    },
    {
     "data": {
      "text/plain": [
       "Index(['surveillance_network', 'season', 'mmwr_year', 'mmwr_week', 'age_group',\n",
       "       'sex', 'race_ethnicity', 'site', 'weekly_rate', 'cumulative_rate',\n",
       "       '_weekenddate', 'type'],\n",
       "      dtype='object')"
      ]
     },
     "execution_count": 21,
     "metadata": {},
     "output_type": "execute_result"
    }
   ],
   "source": [
    "full_data=pd.DataFrame.from_records(lab_results)\n",
    "print(full_data.shape)\n",
    "print(full_data.dtypes)\n",
    "full_data.columns"
   ]
  },
  {
   "cell_type": "code",
   "execution_count": 22,
   "metadata": {
    "colab": {
     "base_uri": "https://localhost:8080/",
     "height": 206
    },
    "executionInfo": {
     "elapsed": 186,
     "status": "ok",
     "timestamp": 1703195854403,
     "user": {
      "displayName": "Matt Scruggs",
      "userId": "15062721702591421463"
     },
     "user_tz": 360
    },
    "id": "NJOGs957UTiI",
    "outputId": "fc1539ee-3856-44ac-8753-631a33df55d5"
   },
   "outputs": [
    {
     "data": {
      "text/html": [
       "<div>\n",
       "<style scoped>\n",
       "    .dataframe tbody tr th:only-of-type {\n",
       "        vertical-align: middle;\n",
       "    }\n",
       "\n",
       "    .dataframe tbody tr th {\n",
       "        vertical-align: top;\n",
       "    }\n",
       "\n",
       "    .dataframe thead th {\n",
       "        text-align: right;\n",
       "    }\n",
       "</style>\n",
       "<table border=\"1\" class=\"dataframe\">\n",
       "  <thead>\n",
       "    <tr style=\"text-align: right;\">\n",
       "      <th></th>\n",
       "      <th>surveillance_network</th>\n",
       "      <th>season</th>\n",
       "      <th>mmwr_year</th>\n",
       "      <th>mmwr_week</th>\n",
       "      <th>age_group</th>\n",
       "      <th>sex</th>\n",
       "      <th>race_ethnicity</th>\n",
       "      <th>site</th>\n",
       "      <th>weekly_rate</th>\n",
       "      <th>cumulative_rate</th>\n",
       "      <th>_weekenddate</th>\n",
       "      <th>type</th>\n",
       "    </tr>\n",
       "  </thead>\n",
       "  <tbody>\n",
       "    <tr>\n",
       "      <th>0</th>\n",
       "      <td>Combined</td>\n",
       "      <td>2023-24</td>\n",
       "      <td>2024.0</td>\n",
       "      <td>38.0</td>\n",
       "      <td>Overall</td>\n",
       "      <td>Overall</td>\n",
       "      <td>Overall</td>\n",
       "      <td>Utah</td>\n",
       "      <td>2.3</td>\n",
       "      <td>250.0</td>\n",
       "      <td>2024-09-21 00:00:00</td>\n",
       "      <td>Unadjusted Rate</td>\n",
       "    </tr>\n",
       "    <tr>\n",
       "      <th>1</th>\n",
       "      <td>Combined</td>\n",
       "      <td>2023-24</td>\n",
       "      <td>2024.0</td>\n",
       "      <td>37.0</td>\n",
       "      <td>Overall</td>\n",
       "      <td>Overall</td>\n",
       "      <td>Overall</td>\n",
       "      <td>Utah</td>\n",
       "      <td>3.0</td>\n",
       "      <td>247.0</td>\n",
       "      <td>2024-09-14 00:00:00</td>\n",
       "      <td>Unadjusted Rate</td>\n",
       "    </tr>\n",
       "    <tr>\n",
       "      <th>2</th>\n",
       "      <td>Combined</td>\n",
       "      <td>2023-24</td>\n",
       "      <td>2024.0</td>\n",
       "      <td>36.0</td>\n",
       "      <td>Overall</td>\n",
       "      <td>Overall</td>\n",
       "      <td>Overall</td>\n",
       "      <td>Utah</td>\n",
       "      <td>3.984298764938795</td>\n",
       "      <td>244.0</td>\n",
       "      <td>2024-09-07 00:00:00</td>\n",
       "      <td>Unadjusted Rate</td>\n",
       "    </tr>\n",
       "    <tr>\n",
       "      <th>3</th>\n",
       "      <td>Combined</td>\n",
       "      <td>2023-24</td>\n",
       "      <td>2024.0</td>\n",
       "      <td>35.0</td>\n",
       "      <td>Overall</td>\n",
       "      <td>Overall</td>\n",
       "      <td>Overall</td>\n",
       "      <td>Utah</td>\n",
       "      <td>3.584298764938795</td>\n",
       "      <td>240.0</td>\n",
       "      <td>2024-08-31 00:00:00</td>\n",
       "      <td>Unadjusted Rate</td>\n",
       "    </tr>\n",
       "    <tr>\n",
       "      <th>4</th>\n",
       "      <td>Combined</td>\n",
       "      <td>2023-24</td>\n",
       "      <td>2024.0</td>\n",
       "      <td>34.0</td>\n",
       "      <td>Overall</td>\n",
       "      <td>Overall</td>\n",
       "      <td>Overall</td>\n",
       "      <td>Utah</td>\n",
       "      <td>2.1</td>\n",
       "      <td>237.0</td>\n",
       "      <td>2024-08-24 00:00:00</td>\n",
       "      <td>Unadjusted Rate</td>\n",
       "    </tr>\n",
       "  </tbody>\n",
       "</table>\n",
       "</div>"
      ],
      "text/plain": [
       "  surveillance_network   season mmwr_year mmwr_week age_group      sex  \\\n",
       "0             Combined  2023-24    2024.0      38.0   Overall  Overall   \n",
       "1             Combined  2023-24    2024.0      37.0   Overall  Overall   \n",
       "2             Combined  2023-24    2024.0      36.0   Overall  Overall   \n",
       "3             Combined  2023-24    2024.0      35.0   Overall  Overall   \n",
       "4             Combined  2023-24    2024.0      34.0   Overall  Overall   \n",
       "\n",
       "  race_ethnicity  site        weekly_rate cumulative_rate  \\\n",
       "0        Overall  Utah                2.3           250.0   \n",
       "1        Overall  Utah                3.0           247.0   \n",
       "2        Overall  Utah  3.984298764938795           244.0   \n",
       "3        Overall  Utah  3.584298764938795           240.0   \n",
       "4        Overall  Utah                2.1           237.0   \n",
       "\n",
       "          _weekenddate             type  \n",
       "0  2024-09-21 00:00:00  Unadjusted Rate  \n",
       "1  2024-09-14 00:00:00  Unadjusted Rate  \n",
       "2  2024-09-07 00:00:00  Unadjusted Rate  \n",
       "3  2024-08-31 00:00:00  Unadjusted Rate  \n",
       "4  2024-08-24 00:00:00  Unadjusted Rate  "
      ]
     },
     "execution_count": 22,
     "metadata": {},
     "output_type": "execute_result"
    }
   ],
   "source": [
    "full_data.head()"
   ]
  },
  {
   "cell_type": "code",
   "execution_count": 23,
   "metadata": {
    "executionInfo": {
     "elapsed": 190,
     "status": "ok",
     "timestamp": 1703195968915,
     "user": {
      "displayName": "Matt Scruggs",
      "userId": "15062721702591421463"
     },
     "user_tz": 360
    },
    "id": "JoOnSivVUF2B"
   },
   "outputs": [],
   "source": [
    "filtered_data = full_data.loc[(full_data['race_ethnicity'] == 'Overall') & (full_data['age_group'] == 'Overall') & (full_data['sex'] == 'Overall') & (full_data['site'] == 'Overall')][['surveillance_network','weekly_rate','_weekenddate']]"
   ]
  },
  {
   "cell_type": "code",
   "execution_count": 24,
   "metadata": {
    "executionInfo": {
     "elapsed": 185,
     "status": "ok",
     "timestamp": 1703195970623,
     "user": {
      "displayName": "Matt Scruggs",
      "userId": "15062721702591421463"
     },
     "user_tz": 360
    },
    "id": "tB2gSyuqWHwb"
   },
   "outputs": [],
   "source": [
    "filtered_data= filtered_data.astype({'weekly_rate' : 'float64'})\n",
    "filtered_data['week']=pd.to_datetime(filtered_data['_weekenddate'])"
   ]
  },
  {
   "cell_type": "code",
   "execution_count": 25,
   "metadata": {
    "colab": {
     "base_uri": "https://localhost:8080/",
     "height": 238
    },
    "executionInfo": {
     "elapsed": 186,
     "status": "ok",
     "timestamp": 1703196050804,
     "user": {
      "displayName": "Matt Scruggs",
      "userId": "15062721702591421463"
     },
     "user_tz": 360
    },
    "id": "0o2lVVU_Wnll",
    "outputId": "8bb5de02-8164-4eb9-a70d-1a40c08a57b5"
   },
   "outputs": [
    {
     "data": {
      "text/html": [
       "<div>\n",
       "<style scoped>\n",
       "    .dataframe tbody tr th:only-of-type {\n",
       "        vertical-align: middle;\n",
       "    }\n",
       "\n",
       "    .dataframe tbody tr th {\n",
       "        vertical-align: top;\n",
       "    }\n",
       "\n",
       "    .dataframe thead th {\n",
       "        text-align: right;\n",
       "    }\n",
       "</style>\n",
       "<table border=\"1\" class=\"dataframe\">\n",
       "  <thead>\n",
       "    <tr style=\"text-align: right;\">\n",
       "      <th>surveillance_network</th>\n",
       "      <th>COVID-NET</th>\n",
       "      <th>Combined</th>\n",
       "      <th>FluSurv-NET</th>\n",
       "      <th>RSV-NET</th>\n",
       "    </tr>\n",
       "    <tr>\n",
       "      <th>week</th>\n",
       "      <th></th>\n",
       "      <th></th>\n",
       "      <th></th>\n",
       "      <th></th>\n",
       "    </tr>\n",
       "  </thead>\n",
       "  <tbody>\n",
       "    <tr>\n",
       "      <th>2018-10-06</th>\n",
       "      <td>NaN</td>\n",
       "      <td>0.172305</td>\n",
       "      <td>0.072305</td>\n",
       "      <td>0.1</td>\n",
       "    </tr>\n",
       "    <tr>\n",
       "      <th>2018-10-13</th>\n",
       "      <td>NaN</td>\n",
       "      <td>0.299850</td>\n",
       "      <td>0.099850</td>\n",
       "      <td>0.2</td>\n",
       "    </tr>\n",
       "    <tr>\n",
       "      <th>2018-10-20</th>\n",
       "      <td>NaN</td>\n",
       "      <td>0.303293</td>\n",
       "      <td>0.103293</td>\n",
       "      <td>0.2</td>\n",
       "    </tr>\n",
       "    <tr>\n",
       "      <th>2018-10-27</th>\n",
       "      <td>NaN</td>\n",
       "      <td>0.403293</td>\n",
       "      <td>0.103293</td>\n",
       "      <td>0.3</td>\n",
       "    </tr>\n",
       "    <tr>\n",
       "      <th>2018-11-03</th>\n",
       "      <td>NaN</td>\n",
       "      <td>0.458383</td>\n",
       "      <td>0.158383</td>\n",
       "      <td>0.3</td>\n",
       "    </tr>\n",
       "  </tbody>\n",
       "</table>\n",
       "</div>"
      ],
      "text/plain": [
       "surveillance_network  COVID-NET  Combined  FluSurv-NET  RSV-NET\n",
       "week                                                           \n",
       "2018-10-06                  NaN  0.172305     0.072305      0.1\n",
       "2018-10-13                  NaN  0.299850     0.099850      0.2\n",
       "2018-10-20                  NaN  0.303293     0.103293      0.2\n",
       "2018-10-27                  NaN  0.403293     0.103293      0.3\n",
       "2018-11-03                  NaN  0.458383     0.158383      0.3"
      ]
     },
     "execution_count": 25,
     "metadata": {},
     "output_type": "execute_result"
    }
   ],
   "source": [
    "rate_data= filtered_data.drop(columns = '_weekenddate').set_index('week').pivot(columns = 'surveillance_network', values='weekly_rate')\n",
    "rate_data.head()"
   ]
  },
  {
   "cell_type": "code",
   "execution_count": 26,
   "metadata": {},
   "outputs": [
    {
     "data": {
      "text/html": [
       "<div>\n",
       "<style scoped>\n",
       "    .dataframe tbody tr th:only-of-type {\n",
       "        vertical-align: middle;\n",
       "    }\n",
       "\n",
       "    .dataframe tbody tr th {\n",
       "        vertical-align: top;\n",
       "    }\n",
       "\n",
       "    .dataframe thead th {\n",
       "        text-align: right;\n",
       "    }\n",
       "</style>\n",
       "<table border=\"1\" class=\"dataframe\">\n",
       "  <thead>\n",
       "    <tr style=\"text-align: right;\">\n",
       "      <th></th>\n",
       "      <th>COVID-NET</th>\n",
       "    </tr>\n",
       "    <tr>\n",
       "      <th>week</th>\n",
       "      <th></th>\n",
       "    </tr>\n",
       "  </thead>\n",
       "  <tbody>\n",
       "    <tr>\n",
       "      <th>2018-10-06</th>\n",
       "      <td>NaN</td>\n",
       "    </tr>\n",
       "    <tr>\n",
       "      <th>2018-10-13</th>\n",
       "      <td>NaN</td>\n",
       "    </tr>\n",
       "    <tr>\n",
       "      <th>2018-10-20</th>\n",
       "      <td>NaN</td>\n",
       "    </tr>\n",
       "    <tr>\n",
       "      <th>2018-10-27</th>\n",
       "      <td>NaN</td>\n",
       "    </tr>\n",
       "    <tr>\n",
       "      <th>2018-11-03</th>\n",
       "      <td>NaN</td>\n",
       "    </tr>\n",
       "  </tbody>\n",
       "</table>\n",
       "</div>"
      ],
      "text/plain": [
       "            COVID-NET\n",
       "week                 \n",
       "2018-10-06        NaN\n",
       "2018-10-13        NaN\n",
       "2018-10-20        NaN\n",
       "2018-10-27        NaN\n",
       "2018-11-03        NaN"
      ]
     },
     "execution_count": 26,
     "metadata": {},
     "output_type": "execute_result"
    }
   ],
   "source": [
    "covid_rate_data=pd.DataFrame(rate_data.iloc[:,0])\n",
    "#covid_rate_data.rename(columns={'COVID-19':'CTK_pos'},inplace=True)\n",
    "covid_rate_data.head()"
   ]
  },
  {
   "cell_type": "code",
   "execution_count": 27,
   "metadata": {
    "colab": {
     "base_uri": "https://localhost:8080/",
     "height": 637
    },
    "executionInfo": {
     "elapsed": 996,
     "status": "ok",
     "timestamp": 1703196126726,
     "user": {
      "displayName": "Matt Scruggs",
      "userId": "15062721702591421463"
     },
     "user_tz": 360
    },
    "id": "09VNfPd6Wxme",
    "outputId": "5f12d6bc-dd60-4389-8cfb-f7e8d30f13d2"
   },
   "outputs": [
    {
     "data": {
      "text/plain": [
       "<matplotlib.legend.Legend at 0x15fae5acb00>"
      ]
     },
     "execution_count": 27,
     "metadata": {},
     "output_type": "execute_result"
    },
    {
     "data": {
      "image/png": "[encoded data removed]",
      "text/plain": [
       "<Figure size 1600x800 with 1 Axes>"
      ]
     },
     "metadata": {},
     "output_type": "display_data"
    }
   ],
   "source": [
    "fig, ax = plt.subplots(figsize = (16,8))\n",
    "ax.plot(rate_data)\n",
    "fig.autofmt_xdate()\n",
    "plt.legend(['COVID-NET','Combined','FluSurv-Net', 'RSV-NET'], loc='upper right')"
   ]
  },
  {
   "cell_type": "markdown",
   "metadata": {
    "id": "HaM3voUGZ_ub"
   },
   "source": [
    "# Percent of Positive Test Results"
   ]
  },
  {
   "cell_type": "code",
   "execution_count": 28,
   "metadata": {
    "executionInfo": {
     "elapsed": 970,
     "status": "ok",
     "timestamp": 1703196570163,
     "user": {
      "displayName": "Matt Scruggs",
      "userId": "15062721702591421463"
     },
     "user_tz": 360
    },
    "id": "D3WtahZpbHQk"
   },
   "outputs": [],
   "source": [
    "test_results = client.get(\"seuz-s2cv\", limit = 100000)"
   ]
  },
  {
   "cell_type": "code",
   "execution_count": 29,
   "metadata": {
    "colab": {
     "base_uri": "https://localhost:8080/"
    },
    "executionInfo": {
     "elapsed": 556,
     "status": "ok",
     "timestamp": 1703196593335,
     "user": {
      "displayName": "Matt Scruggs",
      "userId": "15062721702591421463"
     },
     "user_tz": 360
    },
    "id": "3zEdB3uebV6x",
    "outputId": "09c38ef0-49d4-411c-a542-850a4c96af48"
   },
   "outputs": [
    {
     "name": "stdout",
     "output_type": "stream",
     "text": [
      "(312, 3)\n",
      "week_end                   object\n",
      "pathogen                   object\n",
      "percent_test_positivity    object\n",
      "dtype: object\n"
     ]
    },
    {
     "data": {
      "text/plain": [
       "Index(['week_end', 'pathogen', 'percent_test_positivity'], dtype='object')"
      ]
     },
     "execution_count": 29,
     "metadata": {},
     "output_type": "execute_result"
    }
   ],
   "source": [
    "full_data=pd.DataFrame.from_records(test_results)\n",
    "print(full_data.shape)\n",
    "print(full_data.dtypes)\n",
    "full_data.columns"
   ]
  },
  {
   "cell_type": "code",
   "execution_count": 30,
   "metadata": {
    "colab": {
     "base_uri": "https://localhost:8080/",
     "height": 238
    },
    "executionInfo": {
     "elapsed": 193,
     "status": "ok",
     "timestamp": 1703196808330,
     "user": {
      "displayName": "Matt Scruggs",
      "userId": "15062721702591421463"
     },
     "user_tz": 360
    },
    "id": "lLw1OM4HbxCN",
    "outputId": "2294bf9e-c48a-42c9-d036-fa3b38325a83"
   },
   "outputs": [
    {
     "data": {
      "text/html": [
       "<div>\n",
       "<style scoped>\n",
       "    .dataframe tbody tr th:only-of-type {\n",
       "        vertical-align: middle;\n",
       "    }\n",
       "\n",
       "    .dataframe tbody tr th {\n",
       "        vertical-align: top;\n",
       "    }\n",
       "\n",
       "    .dataframe thead th {\n",
       "        text-align: right;\n",
       "    }\n",
       "</style>\n",
       "<table border=\"1\" class=\"dataframe\">\n",
       "  <thead>\n",
       "    <tr style=\"text-align: right;\">\n",
       "      <th>pathogen</th>\n",
       "      <th>COVID-19</th>\n",
       "      <th>Influenza</th>\n",
       "      <th>RSV</th>\n",
       "    </tr>\n",
       "    <tr>\n",
       "      <th>week</th>\n",
       "      <th></th>\n",
       "      <th></th>\n",
       "      <th></th>\n",
       "    </tr>\n",
       "  </thead>\n",
       "  <tbody>\n",
       "    <tr>\n",
       "      <th>2022-10-01</th>\n",
       "      <td>6.9</td>\n",
       "      <td>2.0</td>\n",
       "      <td>10.1</td>\n",
       "    </tr>\n",
       "    <tr>\n",
       "      <th>2022-10-08</th>\n",
       "      <td>6.9</td>\n",
       "      <td>2.7</td>\n",
       "      <td>12.4</td>\n",
       "    </tr>\n",
       "    <tr>\n",
       "      <th>2022-10-15</th>\n",
       "      <td>7.1</td>\n",
       "      <td>3.5</td>\n",
       "      <td>14.6</td>\n",
       "    </tr>\n",
       "    <tr>\n",
       "      <th>2022-10-22</th>\n",
       "      <td>6.8</td>\n",
       "      <td>5.4</td>\n",
       "      <td>16.5</td>\n",
       "    </tr>\n",
       "    <tr>\n",
       "      <th>2022-10-29</th>\n",
       "      <td>6.9</td>\n",
       "      <td>8.4</td>\n",
       "      <td>18.2</td>\n",
       "    </tr>\n",
       "  </tbody>\n",
       "</table>\n",
       "</div>"
      ],
      "text/plain": [
       "pathogen    COVID-19  Influenza   RSV\n",
       "week                                 \n",
       "2022-10-01       6.9        2.0  10.1\n",
       "2022-10-08       6.9        2.7  12.4\n",
       "2022-10-15       7.1        3.5  14.6\n",
       "2022-10-22       6.8        5.4  16.5\n",
       "2022-10-29       6.9        8.4  18.2"
      ]
     },
     "execution_count": 30,
     "metadata": {},
     "output_type": "execute_result"
    }
   ],
   "source": [
    "full_data= full_data.astype({'percent_test_positivity' : 'float64'})\n",
    "full_data['week']=pd.to_datetime(full_data['week_end'])\n",
    "test_data= full_data.drop(columns = 'week_end').set_index('week').pivot(columns = 'pathogen', values='percent_test_positivity')\n",
    "test_data.head()"
   ]
  },
  {
   "cell_type": "code",
   "execution_count": 31,
   "metadata": {},
   "outputs": [
    {
     "data": {
      "text/html": [
       "<div>\n",
       "<style scoped>\n",
       "    .dataframe tbody tr th:only-of-type {\n",
       "        vertical-align: middle;\n",
       "    }\n",
       "\n",
       "    .dataframe tbody tr th {\n",
       "        vertical-align: top;\n",
       "    }\n",
       "\n",
       "    .dataframe thead th {\n",
       "        text-align: right;\n",
       "    }\n",
       "</style>\n",
       "<table border=\"1\" class=\"dataframe\">\n",
       "  <thead>\n",
       "    <tr style=\"text-align: right;\">\n",
       "      <th></th>\n",
       "      <th>CTK_pos</th>\n",
       "    </tr>\n",
       "    <tr>\n",
       "      <th>week</th>\n",
       "      <th></th>\n",
       "    </tr>\n",
       "  </thead>\n",
       "  <tbody>\n",
       "    <tr>\n",
       "      <th>2022-10-01</th>\n",
       "      <td>6.9</td>\n",
       "    </tr>\n",
       "    <tr>\n",
       "      <th>2022-10-08</th>\n",
       "      <td>6.9</td>\n",
       "    </tr>\n",
       "    <tr>\n",
       "      <th>2022-10-15</th>\n",
       "      <td>7.1</td>\n",
       "    </tr>\n",
       "    <tr>\n",
       "      <th>2022-10-22</th>\n",
       "      <td>6.8</td>\n",
       "    </tr>\n",
       "    <tr>\n",
       "      <th>2022-10-29</th>\n",
       "      <td>6.9</td>\n",
       "    </tr>\n",
       "  </tbody>\n",
       "</table>\n",
       "</div>"
      ],
      "text/plain": [
       "            CTK_pos\n",
       "week               \n",
       "2022-10-01      6.9\n",
       "2022-10-08      6.9\n",
       "2022-10-15      7.1\n",
       "2022-10-22      6.8\n",
       "2022-10-29      6.9"
      ]
     },
     "execution_count": 31,
     "metadata": {},
     "output_type": "execute_result"
    }
   ],
   "source": [
    "covid_test_data=pd.DataFrame(test_data.iloc[:,0])\n",
    "covid_test_data.rename(columns={'COVID-19':'CTK_pos'},inplace=True)\n",
    "covid_test_data.head()"
   ]
  },
  {
   "cell_type": "code",
   "execution_count": 32,
   "metadata": {
    "colab": {
     "base_uri": "https://localhost:8080/",
     "height": 693
    },
    "executionInfo": {
     "elapsed": 891,
     "status": "ok",
     "timestamp": 1703196888344,
     "user": {
      "displayName": "Matt Scruggs",
      "userId": "15062721702591421463"
     },
     "user_tz": 360
    },
    "id": "K5RwV-C-cOKf",
    "outputId": "3475fa64-b334-4bb6-8101-15956871328c"
   },
   "outputs": [
    {
     "data": {
      "text/plain": [
       "<matplotlib.legend.Legend at 0x15faa6a2cc0>"
      ]
     },
     "execution_count": 32,
     "metadata": {},
     "output_type": "execute_result"
    },
    {
     "data": {
      "image/png": "[encoded data removed]",
      "text/plain": [
       "<Figure size 1600x800 with 1 Axes>"
      ]
     },
     "metadata": {},
     "output_type": "display_data"
    }
   ],
   "source": [
    "fix, ax= plt.subplots(figsize = (16,8))\n",
    "ax.plot(test_data)\n",
    "fig.autofmt_xdate()\n",
    "plt.legend(['COVID-19','Influenza', 'RSV'], loc='upper right')"
   ]
  },
  {
   "cell_type": "markdown",
   "metadata": {},
   "source": [
    "# Total Weekly Cases"
   ]
  },
  {
   "cell_type": "code",
   "execution_count": 53,
   "metadata": {},
   "outputs": [],
   "source": [
    "week_results = client.get(\"pwn4-m3yp\", limit = 100000)"
   ]
  },
  {
   "cell_type": "code",
   "execution_count": 54,
   "metadata": {},
   "outputs": [
    {
     "name": "stdout",
     "output_type": "stream",
     "text": [
      "(10380, 10)\n",
      "date_updated           object\n",
      "state                  object\n",
      "start_date             object\n",
      "end_date               object\n",
      "tot_cases              object\n",
      "new_cases              object\n",
      "tot_deaths             object\n",
      "new_deaths             object\n",
      "new_historic_cases     object\n",
      "new_historic_deaths    object\n",
      "dtype: object\n"
     ]
    },
    {
     "data": {
      "text/plain": [
       "Index(['date_updated', 'state', 'start_date', 'end_date', 'tot_cases',\n",
       "       'new_cases', 'tot_deaths', 'new_deaths', 'new_historic_cases',\n",
       "       'new_historic_deaths'],\n",
       "      dtype='object')"
      ]
     },
     "execution_count": 54,
     "metadata": {},
     "output_type": "execute_result"
    }
   ],
   "source": [
    "full_data=pd.DataFrame.from_records(week_results)\n",
    "print(full_data.shape)\n",
    "print(full_data.dtypes)\n",
    "full_data.columns"
   ]
  },
  {
   "cell_type": "code",
   "execution_count": 55,
   "metadata": {},
   "outputs": [],
   "source": [
    "full_data=full_data.astype({'new_cases' : 'float64'})\n",
    "full_data['week']=pd.to_datetime(full_data['end_date'])\n",
    "case_data= full_data.drop(columns = ['end_date','start_date']).set_index('week').pivot(columns = 'state', values='new_cases')\n",
    "case_data['total']=case_data.sum(axis=1)"
   ]
  },
  {
   "cell_type": "code",
   "execution_count": 57,
   "metadata": {},
   "outputs": [],
   "source": [
    "case_data=case_data.loc[:'2022-01-26']"
   ]
  },
  {
   "cell_type": "code",
   "execution_count": 58,
   "metadata": {},
   "outputs": [
    {
     "data": {
      "text/plain": [
       "(106, 61)"
      ]
     },
     "execution_count": 58,
     "metadata": {},
     "output_type": "execute_result"
    }
   ],
   "source": [
    "case_data.shape"
   ]
  },
  {
   "cell_type": "code",
   "execution_count": 59,
   "metadata": {},
   "outputs": [
    {
     "data": {
      "text/html": [
       "<div>\n",
       "<style scoped>\n",
       "    .dataframe tbody tr th:only-of-type {\n",
       "        vertical-align: middle;\n",
       "    }\n",
       "\n",
       "    .dataframe tbody tr th {\n",
       "        vertical-align: top;\n",
       "    }\n",
       "\n",
       "    .dataframe thead th {\n",
       "        text-align: right;\n",
       "    }\n",
       "</style>\n",
       "<table border=\"1\" class=\"dataframe\">\n",
       "  <thead>\n",
       "    <tr style=\"text-align: right;\">\n",
       "      <th></th>\n",
       "      <th>confirmed_cases</th>\n",
       "    </tr>\n",
       "    <tr>\n",
       "      <th>week</th>\n",
       "      <th></th>\n",
       "    </tr>\n",
       "  </thead>\n",
       "  <tbody>\n",
       "    <tr>\n",
       "      <th>2020-01-22</th>\n",
       "      <td>6.0</td>\n",
       "    </tr>\n",
       "    <tr>\n",
       "      <th>2020-01-29</th>\n",
       "      <td>5.0</td>\n",
       "    </tr>\n",
       "    <tr>\n",
       "      <th>2020-02-05</th>\n",
       "      <td>12.0</td>\n",
       "    </tr>\n",
       "    <tr>\n",
       "      <th>2020-02-12</th>\n",
       "      <td>13.0</td>\n",
       "    </tr>\n",
       "    <tr>\n",
       "      <th>2020-02-19</th>\n",
       "      <td>16.0</td>\n",
       "    </tr>\n",
       "  </tbody>\n",
       "</table>\n",
       "</div>"
      ],
      "text/plain": [
       "            confirmed_cases\n",
       "week                       \n",
       "2020-01-22              6.0\n",
       "2020-01-29              5.0\n",
       "2020-02-05             12.0\n",
       "2020-02-12             13.0\n",
       "2020-02-19             16.0"
      ]
     },
     "execution_count": 59,
     "metadata": {},
     "output_type": "execute_result"
    }
   ],
   "source": [
    "total_case_data=pd.DataFrame(case_data.iloc[:,60])\n",
    "total_case_data.rename(columns={'total':'confirmed_cases'},inplace=True)\n",
    "total_case_data.head()"
   ]
  },
  {
   "cell_type": "code",
   "execution_count": 60,
   "metadata": {},
   "outputs": [
    {
     "data": {
      "image/png": "[encoded data removed]",
      "text/plain": [
       "<Figure size 1600x800 with 1 Axes>"
      ]
     },
     "metadata": {},
     "output_type": "display_data"
    }
   ],
   "source": [
    "fix, ax= plt.subplots(figsize = (16,8))\n",
    "ax.plot(case_data)\n",
    "fig.autofmt_xdate()"
   ]
  },
  {
   "cell_type": "markdown",
   "metadata": {},
   "source": [
    "# Wastewater"
   ]
  },
  {
   "cell_type": "code",
   "execution_count": 40,
   "metadata": {},
   "outputs": [],
   "source": [
    "week_results = client.get(\"g653-rqe2\", limit = 300000)"
   ]
  },
  {
   "cell_type": "code",
   "execution_count": 41,
   "metadata": {},
   "outputs": [
    {
     "name": "stdout",
     "output_type": "stream",
     "text": [
      "(224248, 4)\n",
      "key_plot_id      object\n",
      "date             object\n",
      "pcr_conc_lin     object\n",
      "normalization    object\n",
      "dtype: object\n"
     ]
    },
    {
     "data": {
      "text/plain": [
       "Index(['key_plot_id', 'date', 'pcr_conc_lin', 'normalization'], dtype='object')"
      ]
     },
     "execution_count": 41,
     "metadata": {},
     "output_type": "execute_result"
    }
   ],
   "source": [
    "full_data=pd.DataFrame.from_records(week_results)\n",
    "print(full_data.shape)\n",
    "print(full_data.dtypes)\n",
    "full_data.columns"
   ]
  },
  {
   "cell_type": "code",
   "execution_count": 42,
   "metadata": {},
   "outputs": [
    {
     "data": {
      "text/plain": [
       "array(['flow-population', 'microbial'], dtype=object)"
      ]
     },
     "execution_count": 42,
     "metadata": {},
     "output_type": "execute_result"
    }
   ],
   "source": [
    "full_data['normalization'].unique()"
   ]
  },
  {
   "cell_type": "code",
   "execution_count": 43,
   "metadata": {},
   "outputs": [
    {
     "data": {
      "text/html": [
       "<div>\n",
       "<style scoped>\n",
       "    .dataframe tbody tr th:only-of-type {\n",
       "        vertical-align: middle;\n",
       "    }\n",
       "\n",
       "    .dataframe tbody tr th {\n",
       "        vertical-align: top;\n",
       "    }\n",
       "\n",
       "    .dataframe thead th {\n",
       "        text-align: right;\n",
       "    }\n",
       "</style>\n",
       "<table border=\"1\" class=\"dataframe\">\n",
       "  <thead>\n",
       "    <tr style=\"text-align: right;\">\n",
       "      <th></th>\n",
       "      <th>key_plot_id</th>\n",
       "      <th>date</th>\n",
       "      <th>pcr_conc_lin</th>\n",
       "      <th>normalization</th>\n",
       "    </tr>\n",
       "  </thead>\n",
       "  <tbody>\n",
       "    <tr>\n",
       "      <th>0</th>\n",
       "      <td>NWSS_mi_889_Before treatment plant_122_raw was...</td>\n",
       "      <td>2022-08-08</td>\n",
       "      <td>108205444.30383627</td>\n",
       "      <td>flow-population</td>\n",
       "    </tr>\n",
       "    <tr>\n",
       "      <th>1</th>\n",
       "      <td>NWSS_mi_889_Before treatment plant_122_raw was...</td>\n",
       "      <td>2022-08-10</td>\n",
       "      <td>146710661.49576557</td>\n",
       "      <td>flow-population</td>\n",
       "    </tr>\n",
       "    <tr>\n",
       "      <th>2</th>\n",
       "      <td>NWSS_mi_889_Before treatment plant_122_raw was...</td>\n",
       "      <td>2022-08-15</td>\n",
       "      <td>142685314.13387287</td>\n",
       "      <td>flow-population</td>\n",
       "    </tr>\n",
       "    <tr>\n",
       "      <th>3</th>\n",
       "      <td>NWSS_mi_889_Before treatment plant_122_raw was...</td>\n",
       "      <td>2022-08-17</td>\n",
       "      <td>117230139.89728022</td>\n",
       "      <td>flow-population</td>\n",
       "    </tr>\n",
       "    <tr>\n",
       "      <th>4</th>\n",
       "      <td>NWSS_mi_889_Before treatment plant_122_raw was...</td>\n",
       "      <td>2022-08-22</td>\n",
       "      <td>69845709.54037371</td>\n",
       "      <td>flow-population</td>\n",
       "    </tr>\n",
       "  </tbody>\n",
       "</table>\n",
       "</div>"
      ],
      "text/plain": [
       "                                         key_plot_id        date  \\\n",
       "0  NWSS_mi_889_Before treatment plant_122_raw was...  2022-08-08   \n",
       "1  NWSS_mi_889_Before treatment plant_122_raw was...  2022-08-10   \n",
       "2  NWSS_mi_889_Before treatment plant_122_raw was...  2022-08-15   \n",
       "3  NWSS_mi_889_Before treatment plant_122_raw was...  2022-08-17   \n",
       "4  NWSS_mi_889_Before treatment plant_122_raw was...  2022-08-22   \n",
       "\n",
       "         pcr_conc_lin    normalization  \n",
       "0  108205444.30383627  flow-population  \n",
       "1  146710661.49576557  flow-population  \n",
       "2  142685314.13387287  flow-population  \n",
       "3  117230139.89728022  flow-population  \n",
       "4   69845709.54037371  flow-population  "
      ]
     },
     "execution_count": 43,
     "metadata": {},
     "output_type": "execute_result"
    }
   ],
   "source": [
    "full_data.head()"
   ]
  },
  {
   "cell_type": "code",
   "execution_count": 44,
   "metadata": {},
   "outputs": [],
   "source": [
    "full_data=full_data[(full_data['normalization'] == 'flow-population')]\n",
    "full_data=full_data.astype({'pcr_conc_lin' : 'float64'})\n",
    "full_data['log_concen']=np.log(full_data['pcr_conc_lin'])\n",
    "full_data['week']=pd.to_datetime(full_data['date'])\n",
    "water_data= full_data.drop(columns = ['normalization']).set_index('week').pivot(columns = 'key_plot_id', values='pcr_conc_lin')"
   ]
  },
  {
   "cell_type": "code",
   "execution_count": 45,
   "metadata": {},
   "outputs": [
    {
     "data": {
      "text/html": [
       "<div>\n",
       "<style scoped>\n",
       "    .dataframe tbody tr th:only-of-type {\n",
       "        vertical-align: middle;\n",
       "    }\n",
       "\n",
       "    .dataframe tbody tr th {\n",
       "        vertical-align: top;\n",
       "    }\n",
       "\n",
       "    .dataframe thead th {\n",
       "        text-align: right;\n",
       "    }\n",
       "</style>\n",
       "<table border=\"1\" class=\"dataframe\">\n",
       "  <thead>\n",
       "    <tr style=\"text-align: right;\">\n",
       "      <th>key_plot_id</th>\n",
       "      <th>CDC_VERILY_ak_1490_Treatment plant_raw wastewater</th>\n",
       "      <th>CDC_VERILY_ak_1491_Treatment plant_raw wastewater</th>\n",
       "      <th>CDC_VERILY_ak_2633_Treatment plant_post grit removal</th>\n",
       "      <th>CDC_VERILY_ak_2844_Treatment plant_raw wastewater</th>\n",
       "      <th>CDC_VERILY_al_2510_Treatment plant_post grit removal</th>\n",
       "      <th>CDC_VERILY_al_2629_Treatment plant_post grit removal</th>\n",
       "      <th>CDC_VERILY_ar_1542_Treatment plant_post grit removal</th>\n",
       "      <th>CDC_VERILY_ar_1543_Treatment plant_raw wastewater</th>\n",
       "      <th>CDC_VERILY_ar_1546_Treatment plant_raw wastewater</th>\n",
       "      <th>CDC_VERILY_ar_2507_Treatment plant_raw wastewater</th>\n",
       "      <th>...</th>\n",
       "      <th>NWSS_wv_91_Treatment plant_raw wastewater</th>\n",
       "      <th>NWSS_wv_961_Treatment plant_raw wastewater</th>\n",
       "      <th>NWSS_wy_2625_Treatment plant_raw wastewater</th>\n",
       "      <th>NWSS_wy_2626_Treatment plant_raw wastewater</th>\n",
       "      <th>NWSS_wy_2627_Treatment plant_raw wastewater</th>\n",
       "      <th>NWSS_wy_2628_Treatment plant_raw wastewater</th>\n",
       "      <th>NWSS_wy_2721_Treatment plant_raw wastewater</th>\n",
       "      <th>NWSS_wy_2732_Treatment plant_raw wastewater</th>\n",
       "      <th>NWSS_wy_2740_Treatment plant_raw wastewater</th>\n",
       "      <th>NWSS_wy_2855_Treatment plant_raw wastewater</th>\n",
       "    </tr>\n",
       "    <tr>\n",
       "      <th>week</th>\n",
       "      <th></th>\n",
       "      <th></th>\n",
       "      <th></th>\n",
       "      <th></th>\n",
       "      <th></th>\n",
       "      <th></th>\n",
       "      <th></th>\n",
       "      <th></th>\n",
       "      <th></th>\n",
       "      <th></th>\n",
       "      <th></th>\n",
       "      <th></th>\n",
       "      <th></th>\n",
       "      <th></th>\n",
       "      <th></th>\n",
       "      <th></th>\n",
       "      <th></th>\n",
       "      <th></th>\n",
       "      <th></th>\n",
       "      <th></th>\n",
       "      <th></th>\n",
       "    </tr>\n",
       "  </thead>\n",
       "  <tbody>\n",
       "    <tr>\n",
       "      <th>2020-07-05</th>\n",
       "      <td>NaN</td>\n",
       "      <td>NaN</td>\n",
       "      <td>NaN</td>\n",
       "      <td>NaN</td>\n",
       "      <td>NaN</td>\n",
       "      <td>NaN</td>\n",
       "      <td>NaN</td>\n",
       "      <td>NaN</td>\n",
       "      <td>NaN</td>\n",
       "      <td>NaN</td>\n",
       "      <td>...</td>\n",
       "      <td>NaN</td>\n",
       "      <td>NaN</td>\n",
       "      <td>NaN</td>\n",
       "      <td>NaN</td>\n",
       "      <td>NaN</td>\n",
       "      <td>NaN</td>\n",
       "      <td>NaN</td>\n",
       "      <td>NaN</td>\n",
       "      <td>NaN</td>\n",
       "      <td>NaN</td>\n",
       "    </tr>\n",
       "    <tr>\n",
       "      <th>2020-07-06</th>\n",
       "      <td>NaN</td>\n",
       "      <td>NaN</td>\n",
       "      <td>NaN</td>\n",
       "      <td>NaN</td>\n",
       "      <td>NaN</td>\n",
       "      <td>NaN</td>\n",
       "      <td>NaN</td>\n",
       "      <td>NaN</td>\n",
       "      <td>NaN</td>\n",
       "      <td>NaN</td>\n",
       "      <td>...</td>\n",
       "      <td>NaN</td>\n",
       "      <td>NaN</td>\n",
       "      <td>NaN</td>\n",
       "      <td>NaN</td>\n",
       "      <td>NaN</td>\n",
       "      <td>NaN</td>\n",
       "      <td>NaN</td>\n",
       "      <td>NaN</td>\n",
       "      <td>NaN</td>\n",
       "      <td>NaN</td>\n",
       "    </tr>\n",
       "    <tr>\n",
       "      <th>2020-07-07</th>\n",
       "      <td>NaN</td>\n",
       "      <td>NaN</td>\n",
       "      <td>NaN</td>\n",
       "      <td>NaN</td>\n",
       "      <td>NaN</td>\n",
       "      <td>NaN</td>\n",
       "      <td>NaN</td>\n",
       "      <td>NaN</td>\n",
       "      <td>NaN</td>\n",
       "      <td>NaN</td>\n",
       "      <td>...</td>\n",
       "      <td>NaN</td>\n",
       "      <td>NaN</td>\n",
       "      <td>NaN</td>\n",
       "      <td>NaN</td>\n",
       "      <td>NaN</td>\n",
       "      <td>NaN</td>\n",
       "      <td>NaN</td>\n",
       "      <td>NaN</td>\n",
       "      <td>NaN</td>\n",
       "      <td>NaN</td>\n",
       "    </tr>\n",
       "    <tr>\n",
       "      <th>2020-07-12</th>\n",
       "      <td>NaN</td>\n",
       "      <td>NaN</td>\n",
       "      <td>NaN</td>\n",
       "      <td>NaN</td>\n",
       "      <td>NaN</td>\n",
       "      <td>NaN</td>\n",
       "      <td>NaN</td>\n",
       "      <td>NaN</td>\n",
       "      <td>NaN</td>\n",
       "      <td>NaN</td>\n",
       "      <td>...</td>\n",
       "      <td>NaN</td>\n",
       "      <td>NaN</td>\n",
       "      <td>NaN</td>\n",
       "      <td>NaN</td>\n",
       "      <td>NaN</td>\n",
       "      <td>NaN</td>\n",
       "      <td>NaN</td>\n",
       "      <td>NaN</td>\n",
       "      <td>NaN</td>\n",
       "      <td>NaN</td>\n",
       "    </tr>\n",
       "    <tr>\n",
       "      <th>2020-07-13</th>\n",
       "      <td>NaN</td>\n",
       "      <td>NaN</td>\n",
       "      <td>NaN</td>\n",
       "      <td>NaN</td>\n",
       "      <td>NaN</td>\n",
       "      <td>NaN</td>\n",
       "      <td>NaN</td>\n",
       "      <td>NaN</td>\n",
       "      <td>NaN</td>\n",
       "      <td>NaN</td>\n",
       "      <td>...</td>\n",
       "      <td>NaN</td>\n",
       "      <td>NaN</td>\n",
       "      <td>NaN</td>\n",
       "      <td>NaN</td>\n",
       "      <td>NaN</td>\n",
       "      <td>NaN</td>\n",
       "      <td>NaN</td>\n",
       "      <td>NaN</td>\n",
       "      <td>NaN</td>\n",
       "      <td>NaN</td>\n",
       "    </tr>\n",
       "  </tbody>\n",
       "</table>\n",
       "<p>5 rows × 1256 columns</p>\n",
       "</div>"
      ],
      "text/plain": [
       "key_plot_id  CDC_VERILY_ak_1490_Treatment plant_raw wastewater  \\\n",
       "week                                                             \n",
       "2020-07-05                                                 NaN   \n",
       "2020-07-06                                                 NaN   \n",
       "2020-07-07                                                 NaN   \n",
       "2020-07-12                                                 NaN   \n",
       "2020-07-13                                                 NaN   \n",
       "\n",
       "key_plot_id  CDC_VERILY_ak_1491_Treatment plant_raw wastewater  \\\n",
       "week                                                             \n",
       "2020-07-05                                                 NaN   \n",
       "2020-07-06                                                 NaN   \n",
       "2020-07-07                                                 NaN   \n",
       "2020-07-12                                                 NaN   \n",
       "2020-07-13                                                 NaN   \n",
       "\n",
       "key_plot_id  CDC_VERILY_ak_2633_Treatment plant_post grit removal  \\\n",
       "week                                                                \n",
       "2020-07-05                                                 NaN      \n",
       "2020-07-06                                                 NaN      \n",
       "2020-07-07                                                 NaN      \n",
       "2020-07-12                                                 NaN      \n",
       "2020-07-13                                                 NaN      \n",
       "\n",
       "key_plot_id  CDC_VERILY_ak_2844_Treatment plant_raw wastewater  \\\n",
       "week                                                             \n",
       "2020-07-05                                                 NaN   \n",
       "2020-07-06                                                 NaN   \n",
       "2020-07-07                                                 NaN   \n",
       "2020-07-12                                                 NaN   \n",
       "2020-07-13                                                 NaN   \n",
       "\n",
       "key_plot_id  CDC_VERILY_al_2510_Treatment plant_post grit removal  \\\n",
       "week                                                                \n",
       "2020-07-05                                                 NaN      \n",
       "2020-07-06                                                 NaN      \n",
       "2020-07-07                                                 NaN      \n",
       "2020-07-12                                                 NaN      \n",
       "2020-07-13                                                 NaN      \n",
       "\n",
       "key_plot_id  CDC_VERILY_al_2629_Treatment plant_post grit removal  \\\n",
       "week                                                                \n",
       "2020-07-05                                                 NaN      \n",
       "2020-07-06                                                 NaN      \n",
       "2020-07-07                                                 NaN      \n",
       "2020-07-12                                                 NaN      \n",
       "2020-07-13                                                 NaN      \n",
       "\n",
       "key_plot_id  CDC_VERILY_ar_1542_Treatment plant_post grit removal  \\\n",
       "week                                                                \n",
       "2020-07-05                                                 NaN      \n",
       "2020-07-06                                                 NaN      \n",
       "2020-07-07                                                 NaN      \n",
       "2020-07-12                                                 NaN      \n",
       "2020-07-13                                                 NaN      \n",
       "\n",
       "key_plot_id  CDC_VERILY_ar_1543_Treatment plant_raw wastewater  \\\n",
       "week                                                             \n",
       "2020-07-05                                                 NaN   \n",
       "2020-07-06                                                 NaN   \n",
       "2020-07-07                                                 NaN   \n",
       "2020-07-12                                                 NaN   \n",
       "2020-07-13                                                 NaN   \n",
       "\n",
       "key_plot_id  CDC_VERILY_ar_1546_Treatment plant_raw wastewater  \\\n",
       "week                                                             \n",
       "2020-07-05                                                 NaN   \n",
       "2020-07-06                                                 NaN   \n",
       "2020-07-07                                                 NaN   \n",
       "2020-07-12                                                 NaN   \n",
       "2020-07-13                                                 NaN   \n",
       "\n",
       "key_plot_id  CDC_VERILY_ar_2507_Treatment plant_raw wastewater  ...  \\\n",
       "week                                                            ...   \n",
       "2020-07-05                                                 NaN  ...   \n",
       "2020-07-06                                                 NaN  ...   \n",
       "2020-07-07                                                 NaN  ...   \n",
       "2020-07-12                                                 NaN  ...   \n",
       "2020-07-13                                                 NaN  ...   \n",
       "\n",
       "key_plot_id  NWSS_wv_91_Treatment plant_raw wastewater  \\\n",
       "week                                                     \n",
       "2020-07-05                                         NaN   \n",
       "2020-07-06                                         NaN   \n",
       "2020-07-07                                         NaN   \n",
       "2020-07-12                                         NaN   \n",
       "2020-07-13                                         NaN   \n",
       "\n",
       "key_plot_id  NWSS_wv_961_Treatment plant_raw wastewater  \\\n",
       "week                                                      \n",
       "2020-07-05                                          NaN   \n",
       "2020-07-06                                          NaN   \n",
       "2020-07-07                                          NaN   \n",
       "2020-07-12                                          NaN   \n",
       "2020-07-13                                          NaN   \n",
       "\n",
       "key_plot_id  NWSS_wy_2625_Treatment plant_raw wastewater  \\\n",
       "week                                                       \n",
       "2020-07-05                                           NaN   \n",
       "2020-07-06                                           NaN   \n",
       "2020-07-07                                           NaN   \n",
       "2020-07-12                                           NaN   \n",
       "2020-07-13                                           NaN   \n",
       "\n",
       "key_plot_id  NWSS_wy_2626_Treatment plant_raw wastewater  \\\n",
       "week                                                       \n",
       "2020-07-05                                           NaN   \n",
       "2020-07-06                                           NaN   \n",
       "2020-07-07                                           NaN   \n",
       "2020-07-12                                           NaN   \n",
       "2020-07-13                                           NaN   \n",
       "\n",
       "key_plot_id  NWSS_wy_2627_Treatment plant_raw wastewater  \\\n",
       "week                                                       \n",
       "2020-07-05                                           NaN   \n",
       "2020-07-06                                           NaN   \n",
       "2020-07-07                                           NaN   \n",
       "2020-07-12                                           NaN   \n",
       "2020-07-13                                           NaN   \n",
       "\n",
       "key_plot_id  NWSS_wy_2628_Treatment plant_raw wastewater  \\\n",
       "week                                                       \n",
       "2020-07-05                                           NaN   \n",
       "2020-07-06                                           NaN   \n",
       "2020-07-07                                           NaN   \n",
       "2020-07-12                                           NaN   \n",
       "2020-07-13                                           NaN   \n",
       "\n",
       "key_plot_id  NWSS_wy_2721_Treatment plant_raw wastewater  \\\n",
       "week                                                       \n",
       "2020-07-05                                           NaN   \n",
       "2020-07-06                                           NaN   \n",
       "2020-07-07                                           NaN   \n",
       "2020-07-12                                           NaN   \n",
       "2020-07-13                                           NaN   \n",
       "\n",
       "key_plot_id  NWSS_wy_2732_Treatment plant_raw wastewater  \\\n",
       "week                                                       \n",
       "2020-07-05                                           NaN   \n",
       "2020-07-06                                           NaN   \n",
       "2020-07-07                                           NaN   \n",
       "2020-07-12                                           NaN   \n",
       "2020-07-13                                           NaN   \n",
       "\n",
       "key_plot_id  NWSS_wy_2740_Treatment plant_raw wastewater  \\\n",
       "week                                                       \n",
       "2020-07-05                                           NaN   \n",
       "2020-07-06                                           NaN   \n",
       "2020-07-07                                           NaN   \n",
       "2020-07-12                                           NaN   \n",
       "2020-07-13                                           NaN   \n",
       "\n",
       "key_plot_id  NWSS_wy_2855_Treatment plant_raw wastewater  \n",
       "week                                                      \n",
       "2020-07-05                                           NaN  \n",
       "2020-07-06                                           NaN  \n",
       "2020-07-07                                           NaN  \n",
       "2020-07-12                                           NaN  \n",
       "2020-07-13                                           NaN  \n",
       "\n",
       "[5 rows x 1256 columns]"
      ]
     },
     "execution_count": 45,
     "metadata": {},
     "output_type": "execute_result"
    }
   ],
   "source": [
    "water_data.head()"
   ]
  },
  {
   "cell_type": "code",
   "execution_count": 46,
   "metadata": {},
   "outputs": [
    {
     "name": "stdout",
     "output_type": "stream",
     "text": [
      "key_plot_id\n",
      "NWSS_wv_2558_Treatment plant_raw wastewater      388\n",
      "NWSS_mi_799_Treatment plant_post grit removal    391\n",
      "NWSS_mi_762_Treatment plant_post grit removal    425\n",
      "NWSS_mi_757_Treatment plant_post grit removal    517\n",
      "NWSS_nv_554_Treatment plant_90_raw wastewater    523\n",
      "NWSS_mi_761_Treatment plant_post grit removal    533\n",
      "NWSS_mi_800_Treatment plant_raw wastewater       552\n",
      "NWSS_wi_231_Treatment plant_raw wastewater       642\n",
      "NWSS_wv_2562_Treatment plant_raw wastewater      793\n",
      "NWSS_wv_2553_Treatment plant_raw wastewater      810\n",
      "dtype: int64\n"
     ]
    }
   ],
   "source": [
    "na_counts=water_data.isna().sum()\n",
    "const_sites=list(na_counts.nsmallest(10).index)\n",
    "print(na_counts.nsmallest(10))"
   ]
  },
  {
   "cell_type": "code",
   "execution_count": 47,
   "metadata": {},
   "outputs": [
    {
     "data": {
      "text/html": [
       "<div>\n",
       "<style scoped>\n",
       "    .dataframe tbody tr th:only-of-type {\n",
       "        vertical-align: middle;\n",
       "    }\n",
       "\n",
       "    .dataframe tbody tr th {\n",
       "        vertical-align: top;\n",
       "    }\n",
       "\n",
       "    .dataframe thead th {\n",
       "        text-align: right;\n",
       "    }\n",
       "</style>\n",
       "<table border=\"1\" class=\"dataframe\">\n",
       "  <thead>\n",
       "    <tr style=\"text-align: right;\">\n",
       "      <th>key_plot_id</th>\n",
       "      <th>NWSS_mi_757_Treatment plant_post grit removal</th>\n",
       "      <th>NWSS_mi_761_Treatment plant_post grit removal</th>\n",
       "      <th>NWSS_mi_762_Treatment plant_post grit removal</th>\n",
       "      <th>NWSS_mi_799_Treatment plant_post grit removal</th>\n",
       "      <th>NWSS_mi_800_Treatment plant_raw wastewater</th>\n",
       "      <th>NWSS_nv_554_Treatment plant_90_raw wastewater</th>\n",
       "      <th>NWSS_wi_231_Treatment plant_raw wastewater</th>\n",
       "      <th>NWSS_wv_2553_Treatment plant_raw wastewater</th>\n",
       "      <th>NWSS_wv_2558_Treatment plant_raw wastewater</th>\n",
       "      <th>NWSS_wv_2562_Treatment plant_raw wastewater</th>\n",
       "    </tr>\n",
       "    <tr>\n",
       "      <th>week</th>\n",
       "      <th></th>\n",
       "      <th></th>\n",
       "      <th></th>\n",
       "      <th></th>\n",
       "      <th></th>\n",
       "      <th></th>\n",
       "      <th></th>\n",
       "      <th></th>\n",
       "      <th></th>\n",
       "      <th></th>\n",
       "    </tr>\n",
       "  </thead>\n",
       "  <tbody>\n",
       "    <tr>\n",
       "      <th>2020-07-05</th>\n",
       "      <td>NaN</td>\n",
       "      <td>NaN</td>\n",
       "      <td>NaN</td>\n",
       "      <td>NaN</td>\n",
       "      <td>NaN</td>\n",
       "      <td>NaN</td>\n",
       "      <td>NaN</td>\n",
       "      <td>NaN</td>\n",
       "      <td>NaN</td>\n",
       "      <td>NaN</td>\n",
       "    </tr>\n",
       "    <tr>\n",
       "      <th>2020-07-06</th>\n",
       "      <td>NaN</td>\n",
       "      <td>NaN</td>\n",
       "      <td>NaN</td>\n",
       "      <td>NaN</td>\n",
       "      <td>NaN</td>\n",
       "      <td>NaN</td>\n",
       "      <td>NaN</td>\n",
       "      <td>NaN</td>\n",
       "      <td>NaN</td>\n",
       "      <td>NaN</td>\n",
       "    </tr>\n",
       "    <tr>\n",
       "      <th>2020-07-07</th>\n",
       "      <td>NaN</td>\n",
       "      <td>NaN</td>\n",
       "      <td>NaN</td>\n",
       "      <td>NaN</td>\n",
       "      <td>NaN</td>\n",
       "      <td>NaN</td>\n",
       "      <td>NaN</td>\n",
       "      <td>NaN</td>\n",
       "      <td>NaN</td>\n",
       "      <td>NaN</td>\n",
       "    </tr>\n",
       "    <tr>\n",
       "      <th>2020-07-12</th>\n",
       "      <td>NaN</td>\n",
       "      <td>NaN</td>\n",
       "      <td>NaN</td>\n",
       "      <td>NaN</td>\n",
       "      <td>NaN</td>\n",
       "      <td>NaN</td>\n",
       "      <td>NaN</td>\n",
       "      <td>NaN</td>\n",
       "      <td>NaN</td>\n",
       "      <td>NaN</td>\n",
       "    </tr>\n",
       "    <tr>\n",
       "      <th>2020-07-13</th>\n",
       "      <td>NaN</td>\n",
       "      <td>NaN</td>\n",
       "      <td>NaN</td>\n",
       "      <td>NaN</td>\n",
       "      <td>NaN</td>\n",
       "      <td>NaN</td>\n",
       "      <td>NaN</td>\n",
       "      <td>NaN</td>\n",
       "      <td>NaN</td>\n",
       "      <td>NaN</td>\n",
       "    </tr>\n",
       "  </tbody>\n",
       "</table>\n",
       "</div>"
      ],
      "text/plain": [
       "key_plot_id  NWSS_mi_757_Treatment plant_post grit removal  \\\n",
       "week                                                         \n",
       "2020-07-05                                             NaN   \n",
       "2020-07-06                                             NaN   \n",
       "2020-07-07                                             NaN   \n",
       "2020-07-12                                             NaN   \n",
       "2020-07-13                                             NaN   \n",
       "\n",
       "key_plot_id  NWSS_mi_761_Treatment plant_post grit removal  \\\n",
       "week                                                         \n",
       "2020-07-05                                             NaN   \n",
       "2020-07-06                                             NaN   \n",
       "2020-07-07                                             NaN   \n",
       "2020-07-12                                             NaN   \n",
       "2020-07-13                                             NaN   \n",
       "\n",
       "key_plot_id  NWSS_mi_762_Treatment plant_post grit removal  \\\n",
       "week                                                         \n",
       "2020-07-05                                             NaN   \n",
       "2020-07-06                                             NaN   \n",
       "2020-07-07                                             NaN   \n",
       "2020-07-12                                             NaN   \n",
       "2020-07-13                                             NaN   \n",
       "\n",
       "key_plot_id  NWSS_mi_799_Treatment plant_post grit removal  \\\n",
       "week                                                         \n",
       "2020-07-05                                             NaN   \n",
       "2020-07-06                                             NaN   \n",
       "2020-07-07                                             NaN   \n",
       "2020-07-12                                             NaN   \n",
       "2020-07-13                                             NaN   \n",
       "\n",
       "key_plot_id  NWSS_mi_800_Treatment plant_raw wastewater  \\\n",
       "week                                                      \n",
       "2020-07-05                                          NaN   \n",
       "2020-07-06                                          NaN   \n",
       "2020-07-07                                          NaN   \n",
       "2020-07-12                                          NaN   \n",
       "2020-07-13                                          NaN   \n",
       "\n",
       "key_plot_id  NWSS_nv_554_Treatment plant_90_raw wastewater  \\\n",
       "week                                                         \n",
       "2020-07-05                                             NaN   \n",
       "2020-07-06                                             NaN   \n",
       "2020-07-07                                             NaN   \n",
       "2020-07-12                                             NaN   \n",
       "2020-07-13                                             NaN   \n",
       "\n",
       "key_plot_id  NWSS_wi_231_Treatment plant_raw wastewater  \\\n",
       "week                                                      \n",
       "2020-07-05                                          NaN   \n",
       "2020-07-06                                          NaN   \n",
       "2020-07-07                                          NaN   \n",
       "2020-07-12                                          NaN   \n",
       "2020-07-13                                          NaN   \n",
       "\n",
       "key_plot_id  NWSS_wv_2553_Treatment plant_raw wastewater  \\\n",
       "week                                                       \n",
       "2020-07-05                                           NaN   \n",
       "2020-07-06                                           NaN   \n",
       "2020-07-07                                           NaN   \n",
       "2020-07-12                                           NaN   \n",
       "2020-07-13                                           NaN   \n",
       "\n",
       "key_plot_id  NWSS_wv_2558_Treatment plant_raw wastewater  \\\n",
       "week                                                       \n",
       "2020-07-05                                           NaN   \n",
       "2020-07-06                                           NaN   \n",
       "2020-07-07                                           NaN   \n",
       "2020-07-12                                           NaN   \n",
       "2020-07-13                                           NaN   \n",
       "\n",
       "key_plot_id  NWSS_wv_2562_Treatment plant_raw wastewater  \n",
       "week                                                      \n",
       "2020-07-05                                           NaN  \n",
       "2020-07-06                                           NaN  \n",
       "2020-07-07                                           NaN  \n",
       "2020-07-12                                           NaN  \n",
       "2020-07-13                                           NaN  "
      ]
     },
     "execution_count": 47,
     "metadata": {},
     "output_type": "execute_result"
    }
   ],
   "source": [
    "water_data_c=water_data[water_data.columns.intersection(const_sites)]\n",
    "water_data_c.head()"
   ]
  },
  {
   "cell_type": "code",
   "execution_count": 48,
   "metadata": {},
   "outputs": [
    {
     "data": {
      "image/png": "[encoded data removed]",
      "text/plain": [
       "<Figure size 1600x800 with 1 Axes>"
      ]
     },
     "metadata": {},
     "output_type": "display_data"
    }
   ],
   "source": [
    "fix, ax= plt.subplots(figsize = (16,8))\n",
    "ax.plot(water_data_c)\n",
    "fig.autofmt_xdate()"
   ]
  },
  {
   "cell_type": "markdown",
   "metadata": {},
   "source": [
    "# Join tables together into dataset"
   ]
  },
  {
   "cell_type": "code",
   "execution_count": 49,
   "metadata": {},
   "outputs": [
    {
     "name": "stdout",
     "output_type": "stream",
     "text": [
      "(1456, 15)\n"
     ]
    },
    {
     "data": {
      "text/html": [
       "<div>\n",
       "<style scoped>\n",
       "    .dataframe tbody tr th:only-of-type {\n",
       "        vertical-align: middle;\n",
       "    }\n",
       "\n",
       "    .dataframe tbody tr th {\n",
       "        vertical-align: top;\n",
       "    }\n",
       "\n",
       "    .dataframe thead th {\n",
       "        text-align: right;\n",
       "    }\n",
       "</style>\n",
       "<table border=\"1\" class=\"dataframe\">\n",
       "  <thead>\n",
       "    <tr style=\"text-align: right;\">\n",
       "      <th></th>\n",
       "      <th>NWSS_mi_757_Treatment plant_post grit removal</th>\n",
       "      <th>NWSS_mi_761_Treatment plant_post grit removal</th>\n",
       "      <th>NWSS_mi_762_Treatment plant_post grit removal</th>\n",
       "      <th>NWSS_mi_799_Treatment plant_post grit removal</th>\n",
       "      <th>NWSS_mi_800_Treatment plant_raw wastewater</th>\n",
       "      <th>NWSS_nv_554_Treatment plant_90_raw wastewater</th>\n",
       "      <th>NWSS_wi_231_Treatment plant_raw wastewater</th>\n",
       "      <th>NWSS_wv_2553_Treatment plant_raw wastewater</th>\n",
       "      <th>NWSS_wv_2558_Treatment plant_raw wastewater</th>\n",
       "      <th>NWSS_wv_2562_Treatment plant_raw wastewater</th>\n",
       "      <th>confirmed_cases</th>\n",
       "      <th>CTK_pos</th>\n",
       "      <th>COVID-NET</th>\n",
       "      <th>ER_adm</th>\n",
       "      <th>New_COVID_7DayADM_rate</th>\n",
       "    </tr>\n",
       "    <tr>\n",
       "      <th>week</th>\n",
       "      <th></th>\n",
       "      <th></th>\n",
       "      <th></th>\n",
       "      <th></th>\n",
       "      <th></th>\n",
       "      <th></th>\n",
       "      <th></th>\n",
       "      <th></th>\n",
       "      <th></th>\n",
       "      <th></th>\n",
       "      <th></th>\n",
       "      <th></th>\n",
       "      <th></th>\n",
       "      <th></th>\n",
       "      <th></th>\n",
       "    </tr>\n",
       "  </thead>\n",
       "  <tbody>\n",
       "    <tr>\n",
       "      <th>2020-01-22</th>\n",
       "      <td>NaN</td>\n",
       "      <td>NaN</td>\n",
       "      <td>NaN</td>\n",
       "      <td>NaN</td>\n",
       "      <td>NaN</td>\n",
       "      <td>NaN</td>\n",
       "      <td>NaN</td>\n",
       "      <td>NaN</td>\n",
       "      <td>NaN</td>\n",
       "      <td>NaN</td>\n",
       "      <td>6.0</td>\n",
       "      <td>NaN</td>\n",
       "      <td>NaN</td>\n",
       "      <td>NaN</td>\n",
       "      <td>NaN</td>\n",
       "    </tr>\n",
       "    <tr>\n",
       "      <th>2020-01-29</th>\n",
       "      <td>NaN</td>\n",
       "      <td>NaN</td>\n",
       "      <td>NaN</td>\n",
       "      <td>NaN</td>\n",
       "      <td>NaN</td>\n",
       "      <td>NaN</td>\n",
       "      <td>NaN</td>\n",
       "      <td>NaN</td>\n",
       "      <td>NaN</td>\n",
       "      <td>NaN</td>\n",
       "      <td>5.0</td>\n",
       "      <td>NaN</td>\n",
       "      <td>NaN</td>\n",
       "      <td>NaN</td>\n",
       "      <td>NaN</td>\n",
       "    </tr>\n",
       "    <tr>\n",
       "      <th>2020-02-05</th>\n",
       "      <td>NaN</td>\n",
       "      <td>NaN</td>\n",
       "      <td>NaN</td>\n",
       "      <td>NaN</td>\n",
       "      <td>NaN</td>\n",
       "      <td>NaN</td>\n",
       "      <td>NaN</td>\n",
       "      <td>NaN</td>\n",
       "      <td>NaN</td>\n",
       "      <td>NaN</td>\n",
       "      <td>12.0</td>\n",
       "      <td>NaN</td>\n",
       "      <td>NaN</td>\n",
       "      <td>NaN</td>\n",
       "      <td>NaN</td>\n",
       "    </tr>\n",
       "    <tr>\n",
       "      <th>2020-02-12</th>\n",
       "      <td>NaN</td>\n",
       "      <td>NaN</td>\n",
       "      <td>NaN</td>\n",
       "      <td>NaN</td>\n",
       "      <td>NaN</td>\n",
       "      <td>NaN</td>\n",
       "      <td>NaN</td>\n",
       "      <td>NaN</td>\n",
       "      <td>NaN</td>\n",
       "      <td>NaN</td>\n",
       "      <td>13.0</td>\n",
       "      <td>NaN</td>\n",
       "      <td>NaN</td>\n",
       "      <td>NaN</td>\n",
       "      <td>NaN</td>\n",
       "    </tr>\n",
       "    <tr>\n",
       "      <th>2020-02-19</th>\n",
       "      <td>NaN</td>\n",
       "      <td>NaN</td>\n",
       "      <td>NaN</td>\n",
       "      <td>NaN</td>\n",
       "      <td>NaN</td>\n",
       "      <td>NaN</td>\n",
       "      <td>NaN</td>\n",
       "      <td>NaN</td>\n",
       "      <td>NaN</td>\n",
       "      <td>NaN</td>\n",
       "      <td>16.0</td>\n",
       "      <td>NaN</td>\n",
       "      <td>NaN</td>\n",
       "      <td>NaN</td>\n",
       "      <td>NaN</td>\n",
       "    </tr>\n",
       "  </tbody>\n",
       "</table>\n",
       "</div>"
      ],
      "text/plain": [
       "            NWSS_mi_757_Treatment plant_post grit removal  \\\n",
       "week                                                        \n",
       "2020-01-22                                            NaN   \n",
       "2020-01-29                                            NaN   \n",
       "2020-02-05                                            NaN   \n",
       "2020-02-12                                            NaN   \n",
       "2020-02-19                                            NaN   \n",
       "\n",
       "            NWSS_mi_761_Treatment plant_post grit removal  \\\n",
       "week                                                        \n",
       "2020-01-22                                            NaN   \n",
       "2020-01-29                                            NaN   \n",
       "2020-02-05                                            NaN   \n",
       "2020-02-12                                            NaN   \n",
       "2020-02-19                                            NaN   \n",
       "\n",
       "            NWSS_mi_762_Treatment plant_post grit removal  \\\n",
       "week                                                        \n",
       "2020-01-22                                            NaN   \n",
       "2020-01-29                                            NaN   \n",
       "2020-02-05                                            NaN   \n",
       "2020-02-12                                            NaN   \n",
       "2020-02-19                                            NaN   \n",
       "\n",
       "            NWSS_mi_799_Treatment plant_post grit removal  \\\n",
       "week                                                        \n",
       "2020-01-22                                            NaN   \n",
       "2020-01-29                                            NaN   \n",
       "2020-02-05                                            NaN   \n",
       "2020-02-12                                            NaN   \n",
       "2020-02-19                                            NaN   \n",
       "\n",
       "            NWSS_mi_800_Treatment plant_raw wastewater  \\\n",
       "week                                                     \n",
       "2020-01-22                                         NaN   \n",
       "2020-01-29                                         NaN   \n",
       "2020-02-05                                         NaN   \n",
       "2020-02-12                                         NaN   \n",
       "2020-02-19                                         NaN   \n",
       "\n",
       "            NWSS_nv_554_Treatment plant_90_raw wastewater  \\\n",
       "week                                                        \n",
       "2020-01-22                                            NaN   \n",
       "2020-01-29                                            NaN   \n",
       "2020-02-05                                            NaN   \n",
       "2020-02-12                                            NaN   \n",
       "2020-02-19                                            NaN   \n",
       "\n",
       "            NWSS_wi_231_Treatment plant_raw wastewater  \\\n",
       "week                                                     \n",
       "2020-01-22                                         NaN   \n",
       "2020-01-29                                         NaN   \n",
       "2020-02-05                                         NaN   \n",
       "2020-02-12                                         NaN   \n",
       "2020-02-19                                         NaN   \n",
       "\n",
       "            NWSS_wv_2553_Treatment plant_raw wastewater  \\\n",
       "week                                                      \n",
       "2020-01-22                                          NaN   \n",
       "2020-01-29                                          NaN   \n",
       "2020-02-05                                          NaN   \n",
       "2020-02-12                                          NaN   \n",
       "2020-02-19                                          NaN   \n",
       "\n",
       "            NWSS_wv_2558_Treatment plant_raw wastewater  \\\n",
       "week                                                      \n",
       "2020-01-22                                          NaN   \n",
       "2020-01-29                                          NaN   \n",
       "2020-02-05                                          NaN   \n",
       "2020-02-12                                          NaN   \n",
       "2020-02-19                                          NaN   \n",
       "\n",
       "            NWSS_wv_2562_Treatment plant_raw wastewater  confirmed_cases  \\\n",
       "week                                                                       \n",
       "2020-01-22                                          NaN              6.0   \n",
       "2020-01-29                                          NaN              5.0   \n",
       "2020-02-05                                          NaN             12.0   \n",
       "2020-02-12                                          NaN             13.0   \n",
       "2020-02-19                                          NaN             16.0   \n",
       "\n",
       "            CTK_pos  COVID-NET  ER_adm  New_COVID_7DayADM_rate  \n",
       "week                                                            \n",
       "2020-01-22      NaN        NaN     NaN                     NaN  \n",
       "2020-01-29      NaN        NaN     NaN                     NaN  \n",
       "2020-02-05      NaN        NaN     NaN                     NaN  \n",
       "2020-02-12      NaN        NaN     NaN                     NaN  \n",
       "2020-02-19      NaN        NaN     NaN                     NaN  "
      ]
     },
     "execution_count": 49,
     "metadata": {},
     "output_type": "execute_result"
    }
   ],
   "source": [
    "agg_data= water_data_c.merge(total_case_data, on='week', how = 'outer').merge(covid_test_data, on='week',how='outer')\\\n",
    ".merge(covid_rate_data, on='week',how='outer').merge(covid_er_data, on='week', how='outer').merge(us_data, on='week', how='outer').dropna(how='all')\n",
    "print(agg_data.shape)\n",
    "agg_data.head()"
   ]
  },
  {
   "cell_type": "code",
   "execution_count": 50,
   "metadata": {
    "scrolled": true
   },
   "outputs": [
    {
     "data": {
      "text/html": [
       "<div>\n",
       "<style scoped>\n",
       "    .dataframe tbody tr th:only-of-type {\n",
       "        vertical-align: middle;\n",
       "    }\n",
       "\n",
       "    .dataframe tbody tr th {\n",
       "        vertical-align: top;\n",
       "    }\n",
       "\n",
       "    .dataframe thead th {\n",
       "        text-align: right;\n",
       "    }\n",
       "</style>\n",
       "<table border=\"1\" class=\"dataframe\">\n",
       "  <thead>\n",
       "    <tr style=\"text-align: right;\">\n",
       "      <th></th>\n",
       "      <th>NWSS_mi_757_Treatment plant_post grit removal</th>\n",
       "      <th>NWSS_mi_761_Treatment plant_post grit removal</th>\n",
       "      <th>NWSS_mi_762_Treatment plant_post grit removal</th>\n",
       "      <th>NWSS_mi_799_Treatment plant_post grit removal</th>\n",
       "      <th>NWSS_mi_800_Treatment plant_raw wastewater</th>\n",
       "      <th>NWSS_nv_554_Treatment plant_90_raw wastewater</th>\n",
       "      <th>NWSS_wi_231_Treatment plant_raw wastewater</th>\n",
       "      <th>NWSS_wv_2553_Treatment plant_raw wastewater</th>\n",
       "      <th>NWSS_wv_2558_Treatment plant_raw wastewater</th>\n",
       "      <th>NWSS_wv_2562_Treatment plant_raw wastewater</th>\n",
       "      <th>confirmed_cases</th>\n",
       "      <th>CTK_pos</th>\n",
       "      <th>COVID-NET</th>\n",
       "      <th>ER_adm</th>\n",
       "      <th>New_COVID_7DayADM_rate</th>\n",
       "    </tr>\n",
       "  </thead>\n",
       "  <tbody>\n",
       "    <tr>\n",
       "      <th>NWSS_mi_757_Treatment plant_post grit removal</th>\n",
       "      <td>1.000000</td>\n",
       "      <td>0.583529</td>\n",
       "      <td>0.562642</td>\n",
       "      <td>0.430858</td>\n",
       "      <td>0.490911</td>\n",
       "      <td>-0.019142</td>\n",
       "      <td>0.233856</td>\n",
       "      <td>0.048216</td>\n",
       "      <td>0.016619</td>\n",
       "      <td>0.077595</td>\n",
       "      <td>0.401071</td>\n",
       "      <td>0.265857</td>\n",
       "      <td>0.552632</td>\n",
       "      <td>0.495149</td>\n",
       "      <td>0.411657</td>\n",
       "    </tr>\n",
       "    <tr>\n",
       "      <th>NWSS_mi_761_Treatment plant_post grit removal</th>\n",
       "      <td>0.583529</td>\n",
       "      <td>1.000000</td>\n",
       "      <td>0.557956</td>\n",
       "      <td>0.493775</td>\n",
       "      <td>0.453833</td>\n",
       "      <td>0.069762</td>\n",
       "      <td>0.176987</td>\n",
       "      <td>0.239018</td>\n",
       "      <td>0.184803</td>\n",
       "      <td>0.202351</td>\n",
       "      <td>0.792748</td>\n",
       "      <td>0.306692</td>\n",
       "      <td>0.509091</td>\n",
       "      <td>0.486459</td>\n",
       "      <td>0.441866</td>\n",
       "    </tr>\n",
       "    <tr>\n",
       "      <th>NWSS_mi_762_Treatment plant_post grit removal</th>\n",
       "      <td>0.562642</td>\n",
       "      <td>0.557956</td>\n",
       "      <td>1.000000</td>\n",
       "      <td>0.464787</td>\n",
       "      <td>0.547590</td>\n",
       "      <td>0.083991</td>\n",
       "      <td>0.225203</td>\n",
       "      <td>0.125104</td>\n",
       "      <td>0.023131</td>\n",
       "      <td>0.028684</td>\n",
       "      <td>0.332699</td>\n",
       "      <td>0.188045</td>\n",
       "      <td>0.619086</td>\n",
       "      <td>0.565253</td>\n",
       "      <td>0.420620</td>\n",
       "    </tr>\n",
       "    <tr>\n",
       "      <th>NWSS_mi_799_Treatment plant_post grit removal</th>\n",
       "      <td>0.430858</td>\n",
       "      <td>0.493775</td>\n",
       "      <td>0.464787</td>\n",
       "      <td>1.000000</td>\n",
       "      <td>0.454112</td>\n",
       "      <td>0.147657</td>\n",
       "      <td>0.173436</td>\n",
       "      <td>0.063484</td>\n",
       "      <td>0.128692</td>\n",
       "      <td>0.102431</td>\n",
       "      <td>0.423485</td>\n",
       "      <td>0.407086</td>\n",
       "      <td>0.406051</td>\n",
       "      <td>0.586449</td>\n",
       "      <td>0.214592</td>\n",
       "    </tr>\n",
       "    <tr>\n",
       "      <th>NWSS_mi_800_Treatment plant_raw wastewater</th>\n",
       "      <td>0.490911</td>\n",
       "      <td>0.453833</td>\n",
       "      <td>0.547590</td>\n",
       "      <td>0.454112</td>\n",
       "      <td>1.000000</td>\n",
       "      <td>0.139207</td>\n",
       "      <td>0.202790</td>\n",
       "      <td>0.230677</td>\n",
       "      <td>0.111201</td>\n",
       "      <td>0.138115</td>\n",
       "      <td>0.732593</td>\n",
       "      <td>0.153690</td>\n",
       "      <td>0.486324</td>\n",
       "      <td>0.456578</td>\n",
       "      <td>0.363639</td>\n",
       "    </tr>\n",
       "    <tr>\n",
       "      <th>NWSS_nv_554_Treatment plant_90_raw wastewater</th>\n",
       "      <td>-0.019142</td>\n",
       "      <td>0.069762</td>\n",
       "      <td>0.083991</td>\n",
       "      <td>0.147657</td>\n",
       "      <td>0.139207</td>\n",
       "      <td>1.000000</td>\n",
       "      <td>0.024664</td>\n",
       "      <td>0.147225</td>\n",
       "      <td>0.061187</td>\n",
       "      <td>0.074205</td>\n",
       "      <td>-0.014847</td>\n",
       "      <td>0.011533</td>\n",
       "      <td>-0.021000</td>\n",
       "      <td>0.150692</td>\n",
       "      <td>-0.049409</td>\n",
       "    </tr>\n",
       "    <tr>\n",
       "      <th>NWSS_wi_231_Treatment plant_raw wastewater</th>\n",
       "      <td>0.233856</td>\n",
       "      <td>0.176987</td>\n",
       "      <td>0.225203</td>\n",
       "      <td>0.173436</td>\n",
       "      <td>0.202790</td>\n",
       "      <td>0.024664</td>\n",
       "      <td>1.000000</td>\n",
       "      <td>0.147356</td>\n",
       "      <td>0.031553</td>\n",
       "      <td>0.058019</td>\n",
       "      <td>NaN</td>\n",
       "      <td>0.410001</td>\n",
       "      <td>0.519963</td>\n",
       "      <td>0.620510</td>\n",
       "      <td>0.373529</td>\n",
       "    </tr>\n",
       "    <tr>\n",
       "      <th>NWSS_wv_2553_Treatment plant_raw wastewater</th>\n",
       "      <td>0.048216</td>\n",
       "      <td>0.239018</td>\n",
       "      <td>0.125104</td>\n",
       "      <td>0.063484</td>\n",
       "      <td>0.230677</td>\n",
       "      <td>0.147225</td>\n",
       "      <td>0.147356</td>\n",
       "      <td>1.000000</td>\n",
       "      <td>0.264334</td>\n",
       "      <td>0.273096</td>\n",
       "      <td>0.750211</td>\n",
       "      <td>-0.058212</td>\n",
       "      <td>0.299574</td>\n",
       "      <td>0.186444</td>\n",
       "      <td>0.323445</td>\n",
       "    </tr>\n",
       "    <tr>\n",
       "      <th>NWSS_wv_2558_Treatment plant_raw wastewater</th>\n",
       "      <td>0.016619</td>\n",
       "      <td>0.184803</td>\n",
       "      <td>0.023131</td>\n",
       "      <td>0.128692</td>\n",
       "      <td>0.111201</td>\n",
       "      <td>0.061187</td>\n",
       "      <td>0.031553</td>\n",
       "      <td>0.264334</td>\n",
       "      <td>1.000000</td>\n",
       "      <td>0.078344</td>\n",
       "      <td>0.435871</td>\n",
       "      <td>0.003370</td>\n",
       "      <td>-0.057882</td>\n",
       "      <td>0.163794</td>\n",
       "      <td>-0.122818</td>\n",
       "    </tr>\n",
       "    <tr>\n",
       "      <th>NWSS_wv_2562_Treatment plant_raw wastewater</th>\n",
       "      <td>0.077595</td>\n",
       "      <td>0.202351</td>\n",
       "      <td>0.028684</td>\n",
       "      <td>0.102431</td>\n",
       "      <td>0.138115</td>\n",
       "      <td>0.074205</td>\n",
       "      <td>0.058019</td>\n",
       "      <td>0.273096</td>\n",
       "      <td>0.078344</td>\n",
       "      <td>1.000000</td>\n",
       "      <td>0.693207</td>\n",
       "      <td>0.973825</td>\n",
       "      <td>0.154732</td>\n",
       "      <td>0.796390</td>\n",
       "      <td>1.000000</td>\n",
       "    </tr>\n",
       "    <tr>\n",
       "      <th>confirmed_cases</th>\n",
       "      <td>0.401071</td>\n",
       "      <td>0.792748</td>\n",
       "      <td>0.332699</td>\n",
       "      <td>0.423485</td>\n",
       "      <td>0.732593</td>\n",
       "      <td>-0.014847</td>\n",
       "      <td>NaN</td>\n",
       "      <td>0.750211</td>\n",
       "      <td>0.435871</td>\n",
       "      <td>0.693207</td>\n",
       "      <td>1.000000</td>\n",
       "      <td>NaN</td>\n",
       "      <td>NaN</td>\n",
       "      <td>NaN</td>\n",
       "      <td>NaN</td>\n",
       "    </tr>\n",
       "    <tr>\n",
       "      <th>CTK_pos</th>\n",
       "      <td>0.265857</td>\n",
       "      <td>0.306692</td>\n",
       "      <td>0.188045</td>\n",
       "      <td>0.407086</td>\n",
       "      <td>0.153690</td>\n",
       "      <td>0.011533</td>\n",
       "      <td>0.410001</td>\n",
       "      <td>-0.058212</td>\n",
       "      <td>0.003370</td>\n",
       "      <td>0.973825</td>\n",
       "      <td>NaN</td>\n",
       "      <td>1.000000</td>\n",
       "      <td>0.388138</td>\n",
       "      <td>0.765373</td>\n",
       "      <td>0.552086</td>\n",
       "    </tr>\n",
       "    <tr>\n",
       "      <th>COVID-NET</th>\n",
       "      <td>0.552632</td>\n",
       "      <td>0.509091</td>\n",
       "      <td>0.619086</td>\n",
       "      <td>0.406051</td>\n",
       "      <td>0.486324</td>\n",
       "      <td>-0.021000</td>\n",
       "      <td>0.519963</td>\n",
       "      <td>0.299574</td>\n",
       "      <td>-0.057882</td>\n",
       "      <td>0.154732</td>\n",
       "      <td>NaN</td>\n",
       "      <td>0.388138</td>\n",
       "      <td>1.000000</td>\n",
       "      <td>0.867170</td>\n",
       "      <td>0.946696</td>\n",
       "    </tr>\n",
       "    <tr>\n",
       "      <th>ER_adm</th>\n",
       "      <td>0.495149</td>\n",
       "      <td>0.486459</td>\n",
       "      <td>0.565253</td>\n",
       "      <td>0.586449</td>\n",
       "      <td>0.456578</td>\n",
       "      <td>0.150692</td>\n",
       "      <td>0.620510</td>\n",
       "      <td>0.186444</td>\n",
       "      <td>0.163794</td>\n",
       "      <td>0.796390</td>\n",
       "      <td>NaN</td>\n",
       "      <td>0.765373</td>\n",
       "      <td>0.867170</td>\n",
       "      <td>1.000000</td>\n",
       "      <td>0.935944</td>\n",
       "    </tr>\n",
       "    <tr>\n",
       "      <th>New_COVID_7DayADM_rate</th>\n",
       "      <td>0.411657</td>\n",
       "      <td>0.441866</td>\n",
       "      <td>0.420620</td>\n",
       "      <td>0.214592</td>\n",
       "      <td>0.363639</td>\n",
       "      <td>-0.049409</td>\n",
       "      <td>0.373529</td>\n",
       "      <td>0.323445</td>\n",
       "      <td>-0.122818</td>\n",
       "      <td>1.000000</td>\n",
       "      <td>NaN</td>\n",
       "      <td>0.552086</td>\n",
       "      <td>0.946696</td>\n",
       "      <td>0.935944</td>\n",
       "      <td>1.000000</td>\n",
       "    </tr>\n",
       "  </tbody>\n",
       "</table>\n",
       "</div>"
      ],
      "text/plain": [
       "                                               NWSS_mi_757_Treatment plant_post grit removal  \\\n",
       "NWSS_mi_757_Treatment plant_post grit removal                                       1.000000   \n",
       "NWSS_mi_761_Treatment plant_post grit removal                                       0.583529   \n",
       "NWSS_mi_762_Treatment plant_post grit removal                                       0.562642   \n",
       "NWSS_mi_799_Treatment plant_post grit removal                                       0.430858   \n",
       "NWSS_mi_800_Treatment plant_raw wastewater                                          0.490911   \n",
       "NWSS_nv_554_Treatment plant_90_raw wastewater                                      -0.019142   \n",
       "NWSS_wi_231_Treatment plant_raw wastewater                                          0.233856   \n",
       "NWSS_wv_2553_Treatment plant_raw wastewater                                         0.048216   \n",
       "NWSS_wv_2558_Treatment plant_raw wastewater                                         0.016619   \n",
       "NWSS_wv_2562_Treatment plant_raw wastewater                                         0.077595   \n",
       "confirmed_cases                                                                     0.401071   \n",
       "CTK_pos                                                                             0.265857   \n",
       "COVID-NET                                                                           0.552632   \n",
       "ER_adm                                                                              0.495149   \n",
       "New_COVID_7DayADM_rate                                                              0.411657   \n",
       "\n",
       "                                               NWSS_mi_761_Treatment plant_post grit removal  \\\n",
       "NWSS_mi_757_Treatment plant_post grit removal                                       0.583529   \n",
       "NWSS_mi_761_Treatment plant_post grit removal                                       1.000000   \n",
       "NWSS_mi_762_Treatment plant_post grit removal                                       0.557956   \n",
       "NWSS_mi_799_Treatment plant_post grit removal                                       0.493775   \n",
       "NWSS_mi_800_Treatment plant_raw wastewater                                          0.453833   \n",
       "NWSS_nv_554_Treatment plant_90_raw wastewater                                       0.069762   \n",
       "NWSS_wi_231_Treatment plant_raw wastewater                                          0.176987   \n",
       "NWSS_wv_2553_Treatment plant_raw wastewater                                         0.239018   \n",
       "NWSS_wv_2558_Treatment plant_raw wastewater                                         0.184803   \n",
       "NWSS_wv_2562_Treatment plant_raw wastewater                                         0.202351   \n",
       "confirmed_cases                                                                     0.792748   \n",
       "CTK_pos                                                                             0.306692   \n",
       "COVID-NET                                                                           0.509091   \n",
       "ER_adm                                                                              0.486459   \n",
       "New_COVID_7DayADM_rate                                                              0.441866   \n",
       "\n",
       "                                               NWSS_mi_762_Treatment plant_post grit removal  \\\n",
       "NWSS_mi_757_Treatment plant_post grit removal                                       0.562642   \n",
       "NWSS_mi_761_Treatment plant_post grit removal                                       0.557956   \n",
       "NWSS_mi_762_Treatment plant_post grit removal                                       1.000000   \n",
       "NWSS_mi_799_Treatment plant_post grit removal                                       0.464787   \n",
       "NWSS_mi_800_Treatment plant_raw wastewater                                          0.547590   \n",
       "NWSS_nv_554_Treatment plant_90_raw wastewater                                       0.083991   \n",
       "NWSS_wi_231_Treatment plant_raw wastewater                                          0.225203   \n",
       "NWSS_wv_2553_Treatment plant_raw wastewater                                         0.125104   \n",
       "NWSS_wv_2558_Treatment plant_raw wastewater                                         0.023131   \n",
       "NWSS_wv_2562_Treatment plant_raw wastewater                                         0.028684   \n",
       "confirmed_cases                                                                     0.332699   \n",
       "CTK_pos                                                                             0.188045   \n",
       "COVID-NET                                                                           0.619086   \n",
       "ER_adm                                                                              0.565253   \n",
       "New_COVID_7DayADM_rate                                                              0.420620   \n",
       "\n",
       "                                               NWSS_mi_799_Treatment plant_post grit removal  \\\n",
       "NWSS_mi_757_Treatment plant_post grit removal                                       0.430858   \n",
       "NWSS_mi_761_Treatment plant_post grit removal                                       0.493775   \n",
       "NWSS_mi_762_Treatment plant_post grit removal                                       0.464787   \n",
       "NWSS_mi_799_Treatment plant_post grit removal                                       1.000000   \n",
       "NWSS_mi_800_Treatment plant_raw wastewater                                          0.454112   \n",
       "NWSS_nv_554_Treatment plant_90_raw wastewater                                       0.147657   \n",
       "NWSS_wi_231_Treatment plant_raw wastewater                                          0.173436   \n",
       "NWSS_wv_2553_Treatment plant_raw wastewater                                         0.063484   \n",
       "NWSS_wv_2558_Treatment plant_raw wastewater                                         0.128692   \n",
       "NWSS_wv_2562_Treatment plant_raw wastewater                                         0.102431   \n",
       "confirmed_cases                                                                     0.423485   \n",
       "CTK_pos                                                                             0.407086   \n",
       "COVID-NET                                                                           0.406051   \n",
       "ER_adm                                                                              0.586449   \n",
       "New_COVID_7DayADM_rate                                                              0.214592   \n",
       "\n",
       "                                               NWSS_mi_800_Treatment plant_raw wastewater  \\\n",
       "NWSS_mi_757_Treatment plant_post grit removal                                    0.490911   \n",
       "NWSS_mi_761_Treatment plant_post grit removal                                    0.453833   \n",
       "NWSS_mi_762_Treatment plant_post grit removal                                    0.547590   \n",
       "NWSS_mi_799_Treatment plant_post grit removal                                    0.454112   \n",
       "NWSS_mi_800_Treatment plant_raw wastewater                                       1.000000   \n",
       "NWSS_nv_554_Treatment plant_90_raw wastewater                                    0.139207   \n",
       "NWSS_wi_231_Treatment plant_raw wastewater                                       0.202790   \n",
       "NWSS_wv_2553_Treatment plant_raw wastewater                                      0.230677   \n",
       "NWSS_wv_2558_Treatment plant_raw wastewater                                      0.111201   \n",
       "NWSS_wv_2562_Treatment plant_raw wastewater                                      0.138115   \n",
       "confirmed_cases                                                                  0.732593   \n",
       "CTK_pos                                                                          0.153690   \n",
       "COVID-NET                                                                        0.486324   \n",
       "ER_adm                                                                           0.456578   \n",
       "New_COVID_7DayADM_rate                                                           0.363639   \n",
       "\n",
       "                                               NWSS_nv_554_Treatment plant_90_raw wastewater  \\\n",
       "NWSS_mi_757_Treatment plant_post grit removal                                      -0.019142   \n",
       "NWSS_mi_761_Treatment plant_post grit removal                                       0.069762   \n",
       "NWSS_mi_762_Treatment plant_post grit removal                                       0.083991   \n",
       "NWSS_mi_799_Treatment plant_post grit removal                                       0.147657   \n",
       "NWSS_mi_800_Treatment plant_raw wastewater                                          0.139207   \n",
       "NWSS_nv_554_Treatment plant_90_raw wastewater                                       1.000000   \n",
       "NWSS_wi_231_Treatment plant_raw wastewater                                          0.024664   \n",
       "NWSS_wv_2553_Treatment plant_raw wastewater                                         0.147225   \n",
       "NWSS_wv_2558_Treatment plant_raw wastewater                                         0.061187   \n",
       "NWSS_wv_2562_Treatment plant_raw wastewater                                         0.074205   \n",
       "confirmed_cases                                                                    -0.014847   \n",
       "CTK_pos                                                                             0.011533   \n",
       "COVID-NET                                                                          -0.021000   \n",
       "ER_adm                                                                              0.150692   \n",
       "New_COVID_7DayADM_rate                                                             -0.049409   \n",
       "\n",
       "                                               NWSS_wi_231_Treatment plant_raw wastewater  \\\n",
       "NWSS_mi_757_Treatment plant_post grit removal                                    0.233856   \n",
       "NWSS_mi_761_Treatment plant_post grit removal                                    0.176987   \n",
       "NWSS_mi_762_Treatment plant_post grit removal                                    0.225203   \n",
       "NWSS_mi_799_Treatment plant_post grit removal                                    0.173436   \n",
       "NWSS_mi_800_Treatment plant_raw wastewater                                       0.202790   \n",
       "NWSS_nv_554_Treatment plant_90_raw wastewater                                    0.024664   \n",
       "NWSS_wi_231_Treatment plant_raw wastewater                                       1.000000   \n",
       "NWSS_wv_2553_Treatment plant_raw wastewater                                      0.147356   \n",
       "NWSS_wv_2558_Treatment plant_raw wastewater                                      0.031553   \n",
       "NWSS_wv_2562_Treatment plant_raw wastewater                                      0.058019   \n",
       "confirmed_cases                                                                       NaN   \n",
       "CTK_pos                                                                          0.410001   \n",
       "COVID-NET                                                                        0.519963   \n",
       "ER_adm                                                                           0.620510   \n",
       "New_COVID_7DayADM_rate                                                           0.373529   \n",
       "\n",
       "                                               NWSS_wv_2553_Treatment plant_raw wastewater  \\\n",
       "NWSS_mi_757_Treatment plant_post grit removal                                     0.048216   \n",
       "NWSS_mi_761_Treatment plant_post grit removal                                     0.239018   \n",
       "NWSS_mi_762_Treatment plant_post grit removal                                     0.125104   \n",
       "NWSS_mi_799_Treatment plant_post grit removal                                     0.063484   \n",
       "NWSS_mi_800_Treatment plant_raw wastewater                                        0.230677   \n",
       "NWSS_nv_554_Treatment plant_90_raw wastewater                                     0.147225   \n",
       "NWSS_wi_231_Treatment plant_raw wastewater                                        0.147356   \n",
       "NWSS_wv_2553_Treatment plant_raw wastewater                                       1.000000   \n",
       "NWSS_wv_2558_Treatment plant_raw wastewater                                       0.264334   \n",
       "NWSS_wv_2562_Treatment plant_raw wastewater                                       0.273096   \n",
       "confirmed_cases                                                                   0.750211   \n",
       "CTK_pos                                                                          -0.058212   \n",
       "COVID-NET                                                                         0.299574   \n",
       "ER_adm                                                                            0.186444   \n",
       "New_COVID_7DayADM_rate                                                            0.323445   \n",
       "\n",
       "                                               NWSS_wv_2558_Treatment plant_raw wastewater  \\\n",
       "NWSS_mi_757_Treatment plant_post grit removal                                     0.016619   \n",
       "NWSS_mi_761_Treatment plant_post grit removal                                     0.184803   \n",
       "NWSS_mi_762_Treatment plant_post grit removal                                     0.023131   \n",
       "NWSS_mi_799_Treatment plant_post grit removal                                     0.128692   \n",
       "NWSS_mi_800_Treatment plant_raw wastewater                                        0.111201   \n",
       "NWSS_nv_554_Treatment plant_90_raw wastewater                                     0.061187   \n",
       "NWSS_wi_231_Treatment plant_raw wastewater                                        0.031553   \n",
       "NWSS_wv_2553_Treatment plant_raw wastewater                                       0.264334   \n",
       "NWSS_wv_2558_Treatment plant_raw wastewater                                       1.000000   \n",
       "NWSS_wv_2562_Treatment plant_raw wastewater                                       0.078344   \n",
       "confirmed_cases                                                                   0.435871   \n",
       "CTK_pos                                                                           0.003370   \n",
       "COVID-NET                                                                        -0.057882   \n",
       "ER_adm                                                                            0.163794   \n",
       "New_COVID_7DayADM_rate                                                           -0.122818   \n",
       "\n",
       "                                               NWSS_wv_2562_Treatment plant_raw wastewater  \\\n",
       "NWSS_mi_757_Treatment plant_post grit removal                                     0.077595   \n",
       "NWSS_mi_761_Treatment plant_post grit removal                                     0.202351   \n",
       "NWSS_mi_762_Treatment plant_post grit removal                                     0.028684   \n",
       "NWSS_mi_799_Treatment plant_post grit removal                                     0.102431   \n",
       "NWSS_mi_800_Treatment plant_raw wastewater                                        0.138115   \n",
       "NWSS_nv_554_Treatment plant_90_raw wastewater                                     0.074205   \n",
       "NWSS_wi_231_Treatment plant_raw wastewater                                        0.058019   \n",
       "NWSS_wv_2553_Treatment plant_raw wastewater                                       0.273096   \n",
       "NWSS_wv_2558_Treatment plant_raw wastewater                                       0.078344   \n",
       "NWSS_wv_2562_Treatment plant_raw wastewater                                       1.000000   \n",
       "confirmed_cases                                                                   0.693207   \n",
       "CTK_pos                                                                           0.973825   \n",
       "COVID-NET                                                                         0.154732   \n",
       "ER_adm                                                                            0.796390   \n",
       "New_COVID_7DayADM_rate                                                            1.000000   \n",
       "\n",
       "                                               confirmed_cases   CTK_pos  \\\n",
       "NWSS_mi_757_Treatment plant_post grit removal         0.401071  0.265857   \n",
       "NWSS_mi_761_Treatment plant_post grit removal         0.792748  0.306692   \n",
       "NWSS_mi_762_Treatment plant_post grit removal         0.332699  0.188045   \n",
       "NWSS_mi_799_Treatment plant_post grit removal         0.423485  0.407086   \n",
       "NWSS_mi_800_Treatment plant_raw wastewater            0.732593  0.153690   \n",
       "NWSS_nv_554_Treatment plant_90_raw wastewater        -0.014847  0.011533   \n",
       "NWSS_wi_231_Treatment plant_raw wastewater                 NaN  0.410001   \n",
       "NWSS_wv_2553_Treatment plant_raw wastewater           0.750211 -0.058212   \n",
       "NWSS_wv_2558_Treatment plant_raw wastewater           0.435871  0.003370   \n",
       "NWSS_wv_2562_Treatment plant_raw wastewater           0.693207  0.973825   \n",
       "confirmed_cases                                       1.000000       NaN   \n",
       "CTK_pos                                                    NaN  1.000000   \n",
       "COVID-NET                                                  NaN  0.388138   \n",
       "ER_adm                                                     NaN  0.765373   \n",
       "New_COVID_7DayADM_rate                                     NaN  0.552086   \n",
       "\n",
       "                                               COVID-NET    ER_adm  \\\n",
       "NWSS_mi_757_Treatment plant_post grit removal   0.552632  0.495149   \n",
       "NWSS_mi_761_Treatment plant_post grit removal   0.509091  0.486459   \n",
       "NWSS_mi_762_Treatment plant_post grit removal   0.619086  0.565253   \n",
       "NWSS_mi_799_Treatment plant_post grit removal   0.406051  0.586449   \n",
       "NWSS_mi_800_Treatment plant_raw wastewater      0.486324  0.456578   \n",
       "NWSS_nv_554_Treatment plant_90_raw wastewater  -0.021000  0.150692   \n",
       "NWSS_wi_231_Treatment plant_raw wastewater      0.519963  0.620510   \n",
       "NWSS_wv_2553_Treatment plant_raw wastewater     0.299574  0.186444   \n",
       "NWSS_wv_2558_Treatment plant_raw wastewater    -0.057882  0.163794   \n",
       "NWSS_wv_2562_Treatment plant_raw wastewater     0.154732  0.796390   \n",
       "confirmed_cases                                      NaN       NaN   \n",
       "CTK_pos                                         0.388138  0.765373   \n",
       "COVID-NET                                       1.000000  0.867170   \n",
       "ER_adm                                          0.867170  1.000000   \n",
       "New_COVID_7DayADM_rate                          0.946696  0.935944   \n",
       "\n",
       "                                               New_COVID_7DayADM_rate  \n",
       "NWSS_mi_757_Treatment plant_post grit removal                0.411657  \n",
       "NWSS_mi_761_Treatment plant_post grit removal                0.441866  \n",
       "NWSS_mi_762_Treatment plant_post grit removal                0.420620  \n",
       "NWSS_mi_799_Treatment plant_post grit removal                0.214592  \n",
       "NWSS_mi_800_Treatment plant_raw wastewater                   0.363639  \n",
       "NWSS_nv_554_Treatment plant_90_raw wastewater               -0.049409  \n",
       "NWSS_wi_231_Treatment plant_raw wastewater                   0.373529  \n",
       "NWSS_wv_2553_Treatment plant_raw wastewater                  0.323445  \n",
       "NWSS_wv_2558_Treatment plant_raw wastewater                 -0.122818  \n",
       "NWSS_wv_2562_Treatment plant_raw wastewater                  1.000000  \n",
       "confirmed_cases                                                   NaN  \n",
       "CTK_pos                                                      0.552086  \n",
       "COVID-NET                                                    0.946696  \n",
       "ER_adm                                                       0.935944  \n",
       "New_COVID_7DayADM_rate                                       1.000000  "
      ]
     },
     "execution_count": 50,
     "metadata": {},
     "output_type": "execute_result"
    }
   ],
   "source": [
    "agg_data.corr()"
   ]
  },
  {
   "cell_type": "code",
   "execution_count": 51,
   "metadata": {},
   "outputs": [],
   "source": [
    "agg_data.to_csv('C:/Users/matth/OneDrive/Documents/Projects/Science/Sentinel/COVID tracker/aggregated_covid_data.csv',sep='|')"
   ]
  },
  {
   "cell_type": "code",
   "execution_count": null,
   "metadata": {},
   "outputs": [],
   "source": []
  }
 ],
 "metadata": {
  "colab": {
   "authorship_tag": "ABX9TyNT8Ydni5V0yoQwBVmtaMzc",
   "provenance": [],
   "toc_visible": true
  },
  "kernelspec": {
   "display_name": "Python 3 (ipykernel)",
   "language": "python",
   "name": "python3"
  },
  "language_info": {
   "codemirror_mode": {
    "name": "ipython",
    "version": 3
   },
   "file_extension": ".py",
   "mimetype": "text/x-python",
   "name": "python",
   "nbconvert_exporter": "python",
   "pygments_lexer": "ipython3",
   "version": "3.12.6"
  }
 },
 "nbformat": 4,
 "nbformat_minor": 4
}
