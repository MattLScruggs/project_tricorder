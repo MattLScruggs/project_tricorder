{
 "cells": [
  {
   "cell_type": "markdown",
   "metadata": {
    "id": "UZCoheMwO_ot"
   },
   "source": [
    "# Install dependencies and set up Socrata API"
   ]
  },
  {
   "cell_type": "code",
   "execution_count": 4,
   "metadata": {
    "colab": {
     "base_uri": "https://localhost:8080/"
    },
    "executionInfo": {
     "elapsed": 57231,
     "status": "ok",
     "timestamp": 1703193200432,
     "user": {
      "displayName": "Matt Scruggs",
      "userId": "15062721702591421463"
     },
     "user_tz": 360
    },
    "id": "rruFQrJKAsYG",
    "outputId": "2e95d288-b719-4888-bf51-ea320412eb25"
   },
   "outputs": [
    {
     "name": "stdout",
     "output_type": "stream",
     "text": [
      "Requirement already satisfied: sodapy in c:\\users\\matth\\miniconda3\\lib\\site-packages (2.2.0)\n",
      "Requirement already satisfied: requests>=2.28.1 in c:\\users\\matth\\miniconda3\\lib\\site-packages (from sodapy) (2.31.0)\n",
      "Requirement already satisfied: urllib3<3,>=1.21.1 in c:\\users\\matth\\miniconda3\\lib\\site-packages (from requests>=2.28.1->sodapy) (1.26.6)\n",
      "Requirement already satisfied: idna<4,>=2.5 in c:\\users\\matth\\miniconda3\\lib\\site-packages (from requests>=2.28.1->sodapy) (2.10)\n",
      "Requirement already satisfied: certifi>=2017.4.17 in c:\\users\\matth\\miniconda3\\lib\\site-packages (from requests>=2.28.1->sodapy) (2021.10.8)\n",
      "Requirement already satisfied: charset-normalizer<4,>=2 in c:\\users\\matth\\miniconda3\\lib\\site-packages (from requests>=2.28.1->sodapy) (2.0.4)\n"
     ]
    },
    {
     "name": "stderr",
     "output_type": "stream",
     "text": [
      "WARNING:root:Requests made without an app_token will be subject to strict throttling limits.\n"
     ]
    },
    {
     "name": "stdout",
     "output_type": "stream",
     "text": [
      "Requirement already satisfied: nbconvert in c:\\users\\matth\\miniconda3\\lib\\site-packages (6.3.0)\n",
      "Requirement already satisfied: defusedxml in c:\\users\\matth\\miniconda3\\lib\\site-packages (from nbconvert) (0.7.1)\n",
      "Requirement already satisfied: jupyterlab-pygments in c:\\users\\matth\\miniconda3\\lib\\site-packages (from nbconvert) (0.1.2)\n",
      "Requirement already satisfied: entrypoints>=0.2.2 in c:\\users\\matth\\miniconda3\\lib\\site-packages (from nbconvert) (0.3)\n",
      "Requirement already satisfied: nbformat>=4.4 in c:\\users\\matth\\miniconda3\\lib\\site-packages (from nbconvert) (5.1.3)\n",
      "Requirement already satisfied: jupyter-core in c:\\users\\matth\\miniconda3\\lib\\site-packages (from nbconvert) (4.9.1)\n",
      "Requirement already satisfied: bleach in c:\\users\\matth\\miniconda3\\lib\\site-packages (from nbconvert) (4.1.0)\n",
      "Requirement already satisfied: testpath in c:\\users\\matth\\miniconda3\\lib\\site-packages (from nbconvert) (0.5.0)\n",
      "Requirement already satisfied: pygments>=2.4.1 in c:\\users\\matth\\miniconda3\\lib\\site-packages (from nbconvert) (2.10.0)\n",
      "Requirement already satisfied: nbclient<0.6.0,>=0.5.0 in c:\\users\\matth\\miniconda3\\lib\\site-packages (from nbconvert) (0.5.9)\n",
      "Requirement already satisfied: pandocfilters>=1.4.1 in c:\\users\\matth\\miniconda3\\lib\\site-packages (from nbconvert) (1.5.0)\n",
      "Requirement already satisfied: jinja2>=2.4 in c:\\users\\matth\\miniconda3\\lib\\site-packages (from nbconvert) (3.0.3)\n",
      "Requirement already satisfied: mistune<2,>=0.8.1 in c:\\users\\matth\\miniconda3\\lib\\site-packages (from nbconvert) (0.8.4)\n",
      "Requirement already satisfied: traitlets>=5.0 in c:\\users\\matth\\miniconda3\\lib\\site-packages (from nbconvert) (5.1.1)\n",
      "Requirement already satisfied: MarkupSafe>=2.0 in c:\\users\\matth\\miniconda3\\lib\\site-packages (from jinja2>=2.4->nbconvert) (2.0.1)\n",
      "Requirement already satisfied: jupyter-client>=6.1.5 in c:\\users\\matth\\miniconda3\\lib\\site-packages (from nbclient<0.6.0,>=0.5.0->nbconvert) (7.1.0)\n",
      "Requirement already satisfied: nest-asyncio in c:\\users\\matth\\miniconda3\\lib\\site-packages (from nbclient<0.6.0,>=0.5.0->nbconvert) (1.5.4)\n",
      "Requirement already satisfied: tornado>=4.1 in c:\\users\\matth\\miniconda3\\lib\\site-packages (from jupyter-client>=6.1.5->nbclient<0.6.0,>=0.5.0->nbconvert) (6.1)\n",
      "Requirement already satisfied: python-dateutil>=2.1 in c:\\users\\matth\\miniconda3\\lib\\site-packages (from jupyter-client>=6.1.5->nbclient<0.6.0,>=0.5.0->nbconvert) (2.8.2)\n",
      "Requirement already satisfied: pyzmq>=13 in c:\\users\\matth\\miniconda3\\lib\\site-packages (from jupyter-client>=6.1.5->nbclient<0.6.0,>=0.5.0->nbconvert) (22.3.0)\n",
      "Requirement already satisfied: pywin32>=1.0 in c:\\users\\matth\\miniconda3\\lib\\site-packages (from jupyter-core->nbconvert) (228)\n",
      "Requirement already satisfied: jsonschema!=2.5.0,>=2.4 in c:\\users\\matth\\miniconda3\\lib\\site-packages (from nbformat>=4.4->nbconvert) (4.3.1)\n",
      "Requirement already satisfied: ipython-genutils in c:\\users\\matth\\miniconda3\\lib\\site-packages (from nbformat>=4.4->nbconvert) (0.2.0)\n",
      "Requirement already satisfied: pyrsistent!=0.17.0,!=0.17.1,!=0.17.2,>=0.14.0 in c:\\users\\matth\\miniconda3\\lib\\site-packages (from jsonschema!=2.5.0,>=2.4->nbformat>=4.4->nbconvert) (0.18.0)\n",
      "Requirement already satisfied: attrs>=17.4.0 in c:\\users\\matth\\miniconda3\\lib\\site-packages (from jsonschema!=2.5.0,>=2.4->nbformat>=4.4->nbconvert) (21.2.0)\n",
      "Requirement already satisfied: six>=1.5 in c:\\users\\matth\\miniconda3\\lib\\site-packages (from python-dateutil>=2.1->jupyter-client>=6.1.5->nbclient<0.6.0,>=0.5.0->nbconvert) (1.16.0)\n",
      "Requirement already satisfied: webencodings in c:\\users\\matth\\miniconda3\\lib\\site-packages (from bleach->nbconvert) (0.5.1)\n",
      "Requirement already satisfied: packaging in c:\\users\\matth\\miniconda3\\lib\\site-packages (from bleach->nbconvert) (21.3)\n",
      "Requirement already satisfied: pyparsing!=3.0.5,>=2.0.2 in c:\\users\\matth\\miniconda3\\lib\\site-packages (from packaging->bleach->nbconvert) (3.0.6)\n"
     ]
    }
   ],
   "source": [
    "!pip install sodapy;\n",
    "!pip install nbconvert;\n",
    "import numpy as np\n",
    "import pandas as pd\n",
    "import sodapy\n",
    "from sodapy import Socrata\n",
    "import matplotlib.pyplot as plt\n",
    "from datetime import datetime\n",
    "client = Socrata(\"data.cdc.gov\", None)"
   ]
  },
  {
   "cell_type": "markdown",
   "metadata": {
    "id": "4BuKUfNrPE1o"
   },
   "source": [
    "# COVID-19 Total 7-day Admissions per 100k"
   ]
  },
  {
   "cell_type": "code",
   "execution_count": 5,
   "metadata": {
    "executionInfo": {
     "elapsed": 2780,
     "status": "ok",
     "timestamp": 1703193210509,
     "user": {
      "displayName": "Matt Scruggs",
      "userId": "15062721702591421463"
     },
     "user_tz": 360
    },
    "id": "rvSXbk4vciiM"
   },
   "outputs": [],
   "source": [
    "results = client.get(\"7dk4-g6vg\", limit = 100000)"
   ]
  },
  {
   "cell_type": "code",
   "execution_count": 6,
   "metadata": {
    "colab": {
     "base_uri": "https://localhost:8080/"
    },
    "executionInfo": {
     "elapsed": 2,
     "status": "ok",
     "timestamp": 1703193210509,
     "user": {
      "displayName": "Matt Scruggs",
      "userId": "15062721702591421463"
     },
     "user_tz": 360
    },
    "id": "cbE5A4ZGcrS8",
    "outputId": "12225450-f46d-454c-9162-80c43e768d20"
   },
   "outputs": [
    {
     "name": "stdout",
     "output_type": "stream",
     "text": [
      "(11847, 12)\n",
      "week_ending_date                   object\n",
      "state                              object\n",
      "avg_adm_all_covid_confirmed        object\n",
      "pct_chg_avg_adm_all_covid          object\n",
      "total_adm_all_covid_confirmed      object\n",
      "total_adm_all_covid_confirmed_1    object\n",
      "sum_adm_all_covid_confirmed        object\n",
      "avg_total_patients                 object\n",
      "avg_percent_inpatient_beds         object\n",
      "abs_chg_avg_percent_inpatient      object\n",
      "avg_percent_staff_icu_beds         object\n",
      "abs_chg_avg_percent_staff          object\n",
      "dtype: object\n"
     ]
    },
    {
     "data": {
      "text/plain": [
       "Index(['week_ending_date', 'state', 'avg_adm_all_covid_confirmed',\n",
       "       'pct_chg_avg_adm_all_covid', 'total_adm_all_covid_confirmed',\n",
       "       'total_adm_all_covid_confirmed_1', 'sum_adm_all_covid_confirmed',\n",
       "       'avg_total_patients', 'avg_percent_inpatient_beds',\n",
       "       'abs_chg_avg_percent_inpatient', 'avg_percent_staff_icu_beds',\n",
       "       'abs_chg_avg_percent_staff'],\n",
       "      dtype='object')"
      ]
     },
     "execution_count": 6,
     "metadata": {},
     "output_type": "execute_result"
    }
   ],
   "source": [
    "full_data=pd.DataFrame.from_records(results)\n",
    "print(full_data.shape)\n",
    "print(full_data.dtypes)\n",
    "full_data.columns"
   ]
  },
  {
   "cell_type": "code",
   "execution_count": 7,
   "metadata": {
    "executionInfo": {
     "elapsed": 665,
     "status": "ok",
     "timestamp": 1703193211173,
     "user": {
      "displayName": "Matt Scruggs",
      "userId": "15062721702591421463"
     },
     "user_tz": 360
    },
    "id": "AMzulPI3MG08"
   },
   "outputs": [],
   "source": [
    "full_data=full_data.rename({\n",
    "                 'state':'geo_location',\n",
    "                 'avg_adm_all_covid_confirmed':'new_adm_7day_avg',\n",
    "                 'total_adm_all_covid_confirmed':'new_adm_7day_total',\n",
    "                 'total_adm_all_covid_confirmed_1':'new_adm_7day_total_per100k',\n",
    "                 'avg_percent_inpatient_beds':'inpatient_bed_occ_7day_avg',\n",
    "                 'avg_percent_staff_icu_beds':'icu_bed_occ_7day_avg'},axis=1).astype({\n",
    "                 'new_adm_7day_avg':'float64',\n",
    "                 'new_adm_7day_total':'float64',\n",
    "                 'new_adm_7day_total_per100k':'float64',\n",
    "                 'inpatient_bed_occ_7day_avg':'float64',\n",
    "                 'icu_bed_occ_7day_avg':'float64'},errors = 'raise')[['week_ending_date','geo_location','new_adm_7day_total_per100k','inpatient_bed_occ_7day_avg','icu_bed_occ_7day_avg']]"
   ]
  },
  {
   "cell_type": "code",
   "execution_count": 8,
   "metadata": {
    "executionInfo": {
     "elapsed": 2,
     "status": "ok",
     "timestamp": 1703193212102,
     "user": {
      "displayName": "Matt Scruggs",
      "userId": "15062721702591421463"
     },
     "user_tz": 360
    },
    "id": "UpU1qqNNMMWP"
   },
   "outputs": [],
   "source": [
    "full_data['week']=pd.to_datetime(full_data['week_ending_date'])\n",
    "full_data=full_data.set_index(['week']).drop(columns=['week_ending_date','inpatient_bed_occ_7day_avg','icu_bed_occ_7day_avg'])"
   ]
  },
  {
   "cell_type": "code",
   "execution_count": 9,
   "metadata": {
    "executionInfo": {
     "elapsed": 2,
     "status": "ok",
     "timestamp": 1703193213754,
     "user": {
      "displayName": "Matt Scruggs",
      "userId": "15062721702591421463"
     },
     "user_tz": 360
    },
    "id": "VclGxRmdMO8a"
   },
   "outputs": [],
   "source": [
    "case_data=full_data.pivot(columns='geo_location',values = 'new_adm_7day_total_per100k')"
   ]
  },
  {
   "cell_type": "code",
   "execution_count": 10,
   "metadata": {
    "executionInfo": {
     "elapsed": 589,
     "status": "ok",
     "timestamp": 1703193215967,
     "user": {
      "displayName": "Matt Scruggs",
      "userId": "15062721702591421463"
     },
     "user_tz": 360
    },
    "id": "g9EhV0E9UOF-"
   },
   "outputs": [],
   "source": [
    "#case_data.to_csv('/drive/MyDrive/Documents/latest_covid_adm_data.csv')"
   ]
  },
  {
   "cell_type": "code",
   "execution_count": 11,
   "metadata": {
    "colab": {
     "base_uri": "https://localhost:8080/"
    },
    "executionInfo": {
     "elapsed": 2,
     "status": "ok",
     "timestamp": 1703193216820,
     "user": {
      "displayName": "Matt Scruggs",
      "userId": "15062721702591421463"
     },
     "user_tz": 360
    },
    "id": "XCywaUkoMXT3",
    "outputId": "97df0ce6-42c7-40d5-b074-d7e5144046b0"
   },
   "outputs": [
    {
     "data": {
      "text/plain": [
       "week\n",
       "2020-08-08    9.524743\n",
       "2020-08-15    8.996444\n",
       "2020-08-22    8.862412\n",
       "2020-08-29    8.491940\n",
       "2020-09-05    7.970267\n",
       "Name: New_COVID_7DayADM_rate, dtype: float64"
      ]
     },
     "execution_count": 11,
     "metadata": {},
     "output_type": "execute_result"
    }
   ],
   "source": [
    "us_data=case_data['USA']\n",
    "us_data.name='New_COVID_7DayADM_rate'\n",
    "us_data.head()"
   ]
  },
  {
   "cell_type": "code",
   "execution_count": 12,
   "metadata": {
    "colab": {
     "base_uri": "https://localhost:8080/",
     "height": 631
    },
    "executionInfo": {
     "elapsed": 687,
     "status": "ok",
     "timestamp": 1703193220573,
     "user": {
      "displayName": "Matt Scruggs",
      "userId": "15062721702591421463"
     },
     "user_tz": 360
    },
    "id": "LYAsoBbcOT5a",
    "outputId": "0e3b515d-f94a-4ecf-c83d-00d5a22900d8"
   },
   "outputs": [
    {
     "data": {
      "image/png": "[encoded data removed]",
      "text/plain": [
       "<Figure size 1152x576 with 1 Axes>"
      ]
     },
     "metadata": {
      "needs_background": "light"
     },
     "output_type": "display_data"
    }
   ],
   "source": [
    "fig, ax = plt.subplots(figsize = (16,8))\n",
    "ax.plot(us_data)\n",
    "fig.autofmt_xdate()"
   ]
  },
  {
   "cell_type": "markdown",
   "metadata": {
    "id": "QelBYF5mOk_s"
   },
   "source": [
    "# NSSP ER Visits- COVID, Flu, RSV, Combined percentage of all ER Visits"
   ]
  },
  {
   "cell_type": "code",
   "execution_count": 13,
   "metadata": {
    "executionInfo": {
     "elapsed": 291,
     "status": "ok",
     "timestamp": 1703193228954,
     "user": {
      "displayName": "Matt Scruggs",
      "userId": "15062721702591421463"
     },
     "user_tz": 360
    },
    "id": "cWoHI02HOkkx"
   },
   "outputs": [],
   "source": [
    "er_visit_results=client.get('vutn-jzwm', limit = 20000)"
   ]
  },
  {
   "cell_type": "code",
   "execution_count": 14,
   "metadata": {
    "colab": {
     "base_uri": "https://localhost:8080/"
    },
    "executionInfo": {
     "elapsed": 180,
     "status": "ok",
     "timestamp": 1703193229916,
     "user": {
      "displayName": "Matt Scruggs",
      "userId": "15062721702591421463"
     },
     "user_tz": 360
    },
    "id": "9bV9wxN8PQ76",
    "outputId": "81e24a9b-3894-41e7-8315-b78d1343d50f"
   },
   "outputs": [
    {
     "name": "stdout",
     "output_type": "stream",
     "text": [
      "(9984, 4)\n",
      "week_end          object\n",
      "pathogen          object\n",
      "geography         object\n",
      "percent_visits    object\n",
      "dtype: object\n"
     ]
    },
    {
     "data": {
      "text/plain": [
       "Index(['week_end', 'pathogen', 'geography', 'percent_visits'], dtype='object')"
      ]
     },
     "execution_count": 14,
     "metadata": {},
     "output_type": "execute_result"
    }
   ],
   "source": [
    "full_data=pd.DataFrame.from_records(er_visit_results)\n",
    "print(full_data.shape)\n",
    "print(full_data.dtypes)\n",
    "full_data.columns"
   ]
  },
  {
   "cell_type": "code",
   "execution_count": 15,
   "metadata": {
    "executionInfo": {
     "elapsed": 200,
     "status": "ok",
     "timestamp": 1703193231558,
     "user": {
      "displayName": "Matt Scruggs",
      "userId": "15062721702591421463"
     },
     "user_tz": 360
    },
    "id": "9rQuAdz_PZ8R"
   },
   "outputs": [],
   "source": [
    "full_data=full_data.astype({'percent_visits': 'float64'})"
   ]
  },
  {
   "cell_type": "code",
   "execution_count": 16,
   "metadata": {
    "executionInfo": {
     "elapsed": 1,
     "status": "ok",
     "timestamp": 1703193232602,
     "user": {
      "displayName": "Matt Scruggs",
      "userId": "15062721702591421463"
     },
     "user_tz": 360
    },
    "id": "kxyQX_P0QCSd"
   },
   "outputs": [],
   "source": [
    "full_data['week']=pd.to_datetime(full_data['week_end'])"
   ]
  },
  {
   "cell_type": "code",
   "execution_count": 17,
   "metadata": {
    "executionInfo": {
     "elapsed": 210,
     "status": "ok",
     "timestamp": 1703194417901,
     "user": {
      "displayName": "Matt Scruggs",
      "userId": "15062721702591421463"
     },
     "user_tz": 360
    },
    "id": "GU-uveAUQbv4"
   },
   "outputs": [],
   "source": [
    "rate_data=full_data.loc[(full_data['geography']=='United States')].drop(columns = ['week_end','geography']).set_index(['week'])"
   ]
  },
  {
   "cell_type": "code",
   "execution_count": 18,
   "metadata": {
    "colab": {
     "base_uri": "https://localhost:8080/",
     "height": 238
    },
    "executionInfo": {
     "elapsed": 191,
     "status": "ok",
     "timestamp": 1703194406886,
     "user": {
      "displayName": "Matt Scruggs",
      "userId": "15062721702591421463"
     },
     "user_tz": 360
    },
    "id": "xs-OnYr7TTzI",
    "outputId": "000b6e75-eb0d-49ed-989d-4913b3dfc082"
   },
   "outputs": [
    {
     "data": {
      "text/html": [
       "<div>\n",
       "<style scoped>\n",
       "    .dataframe tbody tr th:only-of-type {\n",
       "        vertical-align: middle;\n",
       "    }\n",
       "\n",
       "    .dataframe tbody tr th {\n",
       "        vertical-align: top;\n",
       "    }\n",
       "\n",
       "    .dataframe thead th {\n",
       "        text-align: right;\n",
       "    }\n",
       "</style>\n",
       "<table border=\"1\" class=\"dataframe\">\n",
       "  <thead>\n",
       "    <tr style=\"text-align: right;\">\n",
       "      <th>pathogen</th>\n",
       "      <th>COVID-19</th>\n",
       "      <th>Combined</th>\n",
       "      <th>Influenza</th>\n",
       "      <th>RSV</th>\n",
       "    </tr>\n",
       "    <tr>\n",
       "      <th>week</th>\n",
       "      <th></th>\n",
       "      <th></th>\n",
       "      <th></th>\n",
       "      <th></th>\n",
       "    </tr>\n",
       "  </thead>\n",
       "  <tbody>\n",
       "    <tr>\n",
       "      <th>2023-01-14</th>\n",
       "      <td>2.6</td>\n",
       "      <td>3.8</td>\n",
       "      <td>1.0</td>\n",
       "      <td>0.2</td>\n",
       "    </tr>\n",
       "    <tr>\n",
       "      <th>2023-01-21</th>\n",
       "      <td>2.3</td>\n",
       "      <td>3.2</td>\n",
       "      <td>0.7</td>\n",
       "      <td>0.2</td>\n",
       "    </tr>\n",
       "    <tr>\n",
       "      <th>2023-01-28</th>\n",
       "      <td>2.1</td>\n",
       "      <td>2.8</td>\n",
       "      <td>0.6</td>\n",
       "      <td>0.1</td>\n",
       "    </tr>\n",
       "    <tr>\n",
       "      <th>2023-02-04</th>\n",
       "      <td>2.1</td>\n",
       "      <td>2.6</td>\n",
       "      <td>0.5</td>\n",
       "      <td>0.1</td>\n",
       "    </tr>\n",
       "    <tr>\n",
       "      <th>2023-02-11</th>\n",
       "      <td>2.0</td>\n",
       "      <td>2.4</td>\n",
       "      <td>0.4</td>\n",
       "      <td>0.1</td>\n",
       "    </tr>\n",
       "  </tbody>\n",
       "</table>\n",
       "</div>"
      ],
      "text/plain": [
       "pathogen    COVID-19  Combined  Influenza  RSV\n",
       "week                                          \n",
       "2023-01-14       2.6       3.8        1.0  0.2\n",
       "2023-01-21       2.3       3.2        0.7  0.2\n",
       "2023-01-28       2.1       2.8        0.6  0.1\n",
       "2023-02-04       2.1       2.6        0.5  0.1\n",
       "2023-02-11       2.0       2.4        0.4  0.1"
      ]
     },
     "execution_count": 18,
     "metadata": {},
     "output_type": "execute_result"
    }
   ],
   "source": [
    "er_adm_data= rate_data.pivot(columns = 'pathogen', values='percent_visits')\n",
    "er_adm_data.head()"
   ]
  },
  {
   "cell_type": "code",
   "execution_count": 19,
   "metadata": {
    "executionInfo": {
     "elapsed": 2,
     "status": "ok",
     "timestamp": 1703194408201,
     "user": {
      "displayName": "Matt Scruggs",
      "userId": "15062721702591421463"
     },
     "user_tz": 360
    },
    "id": "N_ydvQC3UTs0"
   },
   "outputs": [],
   "source": [
    "#er_adm_data.to_csv('/drive/MyDrive/Documents/latest_er_adm_data.csv')"
   ]
  },
  {
   "cell_type": "code",
   "execution_count": 20,
   "metadata": {
    "colab": {
     "base_uri": "https://localhost:8080/",
     "height": 648
    },
    "executionInfo": {
     "elapsed": 542,
     "status": "ok",
     "timestamp": 1703194409823,
     "user": {
      "displayName": "Matt Scruggs",
      "userId": "15062721702591421463"
     },
     "user_tz": 360
    },
    "id": "i9ywpwQrTzX3",
    "outputId": "d9d3f877-91c7-40ca-d308-114fa2f9344c"
   },
   "outputs": [
    {
     "data": {
      "text/plain": [
       "<matplotlib.legend.Legend at 0x1cb3841de50>"
      ]
     },
     "execution_count": 20,
     "metadata": {},
     "output_type": "execute_result"
    },
    {
     "data": {
      "image/png": "[encoded data removed]",
      "text/plain": [
       "<Figure size 1152x576 with 1 Axes>"
      ]
     },
     "metadata": {
      "needs_background": "light"
     },
     "output_type": "display_data"
    }
   ],
   "source": [
    "fig, ax = plt.subplots(figsize = (16,8))\n",
    "ax.plot(er_adm_data)\n",
    "fig.autofmt_xdate()\n",
    "plt.legend(['COVID-19','Combined','Influenza','RSV'], loc='upper right')"
   ]
  },
  {
   "cell_type": "markdown",
   "metadata": {
    "id": "HKi3liIhTqGt"
   },
   "source": [
    "# Lab-Confirmed Hospitalizations of the Big Three (Rate per 100k)"
   ]
  },
  {
   "cell_type": "code",
   "execution_count": 21,
   "metadata": {
    "executionInfo": {
     "elapsed": 1199,
     "status": "ok",
     "timestamp": 1703194643440,
     "user": {
      "displayName": "Matt Scruggs",
      "userId": "15062721702591421463"
     },
     "user_tz": 360
    },
    "id": "YBPG53hQTowd"
   },
   "outputs": [],
   "source": [
    "lab_results = client.get(\"kvib-3txy\", limit = 100000)"
   ]
  },
  {
   "cell_type": "code",
   "execution_count": 22,
   "metadata": {
    "colab": {
     "base_uri": "https://localhost:8080/"
    },
    "executionInfo": {
     "elapsed": 2,
     "status": "ok",
     "timestamp": 1703194644531,
     "user": {
      "displayName": "Matt Scruggs",
      "userId": "15062721702591421463"
     },
     "user_tz": 360
    },
    "id": "o_x57OngT3Bf",
    "outputId": "db803c06-4622-4ef1-e6a1-69e174e9cd9e"
   },
   "outputs": [
    {
     "name": "stdout",
     "output_type": "stream",
     "text": [
      "(32810, 11)\n",
      "surveillance_network    object\n",
      "season                  object\n",
      "mmwr_year               object\n",
      "mmwr_week               object\n",
      "age_group               object\n",
      "sex                     object\n",
      "race_ethnicity          object\n",
      "site                    object\n",
      "weekly_rate             object\n",
      "cumulative_rate         object\n",
      "_weekenddate            object\n",
      "dtype: object\n"
     ]
    },
    {
     "data": {
      "text/plain": [
       "Index(['surveillance_network', 'season', 'mmwr_year', 'mmwr_week', 'age_group',\n",
       "       'sex', 'race_ethnicity', 'site', 'weekly_rate', 'cumulative_rate',\n",
       "       '_weekenddate'],\n",
       "      dtype='object')"
      ]
     },
     "execution_count": 22,
     "metadata": {},
     "output_type": "execute_result"
    }
   ],
   "source": [
    "full_data=pd.DataFrame.from_records(lab_results)\n",
    "print(full_data.shape)\n",
    "print(full_data.dtypes)\n",
    "full_data.columns"
   ]
  },
  {
   "cell_type": "code",
   "execution_count": 23,
   "metadata": {
    "colab": {
     "base_uri": "https://localhost:8080/",
     "height": 206
    },
    "executionInfo": {
     "elapsed": 186,
     "status": "ok",
     "timestamp": 1703195854403,
     "user": {
      "displayName": "Matt Scruggs",
      "userId": "15062721702591421463"
     },
     "user_tz": 360
    },
    "id": "NJOGs957UTiI",
    "outputId": "fc1539ee-3856-44ac-8753-631a33df55d5"
   },
   "outputs": [
    {
     "data": {
      "text/html": [
       "<div>\n",
       "<style scoped>\n",
       "    .dataframe tbody tr th:only-of-type {\n",
       "        vertical-align: middle;\n",
       "    }\n",
       "\n",
       "    .dataframe tbody tr th {\n",
       "        vertical-align: top;\n",
       "    }\n",
       "\n",
       "    .dataframe thead th {\n",
       "        text-align: right;\n",
       "    }\n",
       "</style>\n",
       "<table border=\"1\" class=\"dataframe\">\n",
       "  <thead>\n",
       "    <tr style=\"text-align: right;\">\n",
       "      <th></th>\n",
       "      <th>surveillance_network</th>\n",
       "      <th>season</th>\n",
       "      <th>mmwr_year</th>\n",
       "      <th>mmwr_week</th>\n",
       "      <th>age_group</th>\n",
       "      <th>sex</th>\n",
       "      <th>race_ethnicity</th>\n",
       "      <th>site</th>\n",
       "      <th>weekly_rate</th>\n",
       "      <th>cumulative_rate</th>\n",
       "      <th>_weekenddate</th>\n",
       "    </tr>\n",
       "  </thead>\n",
       "  <tbody>\n",
       "    <tr>\n",
       "      <th>0</th>\n",
       "      <td>FluSurv-NET</td>\n",
       "      <td>2018-19</td>\n",
       "      <td>2018</td>\n",
       "      <td>40</td>\n",
       "      <td>Overall</td>\n",
       "      <td>Overall</td>\n",
       "      <td>AI/AN, non-Hispanic</td>\n",
       "      <td>Overall</td>\n",
       "      <td>0</td>\n",
       "      <td>0</td>\n",
       "      <td>2018-10-06T00:00:00.000</td>\n",
       "    </tr>\n",
       "    <tr>\n",
       "      <th>1</th>\n",
       "      <td>FluSurv-NET</td>\n",
       "      <td>2018-19</td>\n",
       "      <td>2018</td>\n",
       "      <td>41</td>\n",
       "      <td>Overall</td>\n",
       "      <td>Overall</td>\n",
       "      <td>AI/AN, non-Hispanic</td>\n",
       "      <td>Overall</td>\n",
       "      <td>0</td>\n",
       "      <td>0</td>\n",
       "      <td>2018-10-13T00:00:00.000</td>\n",
       "    </tr>\n",
       "    <tr>\n",
       "      <th>2</th>\n",
       "      <td>FluSurv-NET</td>\n",
       "      <td>2018-19</td>\n",
       "      <td>2018</td>\n",
       "      <td>42</td>\n",
       "      <td>Overall</td>\n",
       "      <td>Overall</td>\n",
       "      <td>AI/AN, non-Hispanic</td>\n",
       "      <td>Overall</td>\n",
       "      <td>0</td>\n",
       "      <td>0</td>\n",
       "      <td>2018-10-20T00:00:00.000</td>\n",
       "    </tr>\n",
       "    <tr>\n",
       "      <th>3</th>\n",
       "      <td>FluSurv-NET</td>\n",
       "      <td>2018-19</td>\n",
       "      <td>2018</td>\n",
       "      <td>43</td>\n",
       "      <td>Overall</td>\n",
       "      <td>Overall</td>\n",
       "      <td>AI/AN, non-Hispanic</td>\n",
       "      <td>Overall</td>\n",
       "      <td>0</td>\n",
       "      <td>0</td>\n",
       "      <td>2018-10-27T00:00:00.000</td>\n",
       "    </tr>\n",
       "    <tr>\n",
       "      <th>4</th>\n",
       "      <td>FluSurv-NET</td>\n",
       "      <td>2018-19</td>\n",
       "      <td>2018</td>\n",
       "      <td>44</td>\n",
       "      <td>Overall</td>\n",
       "      <td>Overall</td>\n",
       "      <td>AI/AN, non-Hispanic</td>\n",
       "      <td>Overall</td>\n",
       "      <td>0</td>\n",
       "      <td>0</td>\n",
       "      <td>2018-11-03T00:00:00.000</td>\n",
       "    </tr>\n",
       "  </tbody>\n",
       "</table>\n",
       "</div>"
      ],
      "text/plain": [
       "  surveillance_network   season mmwr_year mmwr_week age_group      sex  \\\n",
       "0          FluSurv-NET  2018-19      2018        40   Overall  Overall   \n",
       "1          FluSurv-NET  2018-19      2018        41   Overall  Overall   \n",
       "2          FluSurv-NET  2018-19      2018        42   Overall  Overall   \n",
       "3          FluSurv-NET  2018-19      2018        43   Overall  Overall   \n",
       "4          FluSurv-NET  2018-19      2018        44   Overall  Overall   \n",
       "\n",
       "        race_ethnicity     site weekly_rate cumulative_rate  \\\n",
       "0  AI/AN, non-Hispanic  Overall           0               0   \n",
       "1  AI/AN, non-Hispanic  Overall           0               0   \n",
       "2  AI/AN, non-Hispanic  Overall           0               0   \n",
       "3  AI/AN, non-Hispanic  Overall           0               0   \n",
       "4  AI/AN, non-Hispanic  Overall           0               0   \n",
       "\n",
       "              _weekenddate  \n",
       "0  2018-10-06T00:00:00.000  \n",
       "1  2018-10-13T00:00:00.000  \n",
       "2  2018-10-20T00:00:00.000  \n",
       "3  2018-10-27T00:00:00.000  \n",
       "4  2018-11-03T00:00:00.000  "
      ]
     },
     "execution_count": 23,
     "metadata": {},
     "output_type": "execute_result"
    }
   ],
   "source": [
    "full_data.head()"
   ]
  },
  {
   "cell_type": "code",
   "execution_count": 24,
   "metadata": {
    "executionInfo": {
     "elapsed": 190,
     "status": "ok",
     "timestamp": 1703195968915,
     "user": {
      "displayName": "Matt Scruggs",
      "userId": "15062721702591421463"
     },
     "user_tz": 360
    },
    "id": "JoOnSivVUF2B"
   },
   "outputs": [],
   "source": [
    "filtered_data = full_data.loc[(full_data['race_ethnicity'] == 'Overall') & (full_data['age_group'] == 'Overall') & (full_data['sex'] == 'Overall') & (full_data['site'] == 'Overall')][['surveillance_network','weekly_rate','_weekenddate']]"
   ]
  },
  {
   "cell_type": "code",
   "execution_count": 25,
   "metadata": {
    "executionInfo": {
     "elapsed": 185,
     "status": "ok",
     "timestamp": 1703195970623,
     "user": {
      "displayName": "Matt Scruggs",
      "userId": "15062721702591421463"
     },
     "user_tz": 360
    },
    "id": "tB2gSyuqWHwb"
   },
   "outputs": [],
   "source": [
    "filtered_data= filtered_data.astype({'weekly_rate' : 'float64'})\n",
    "filtered_data['week']=pd.to_datetime(filtered_data['_weekenddate'])"
   ]
  },
  {
   "cell_type": "code",
   "execution_count": 26,
   "metadata": {
    "colab": {
     "base_uri": "https://localhost:8080/",
     "height": 238
    },
    "executionInfo": {
     "elapsed": 186,
     "status": "ok",
     "timestamp": 1703196050804,
     "user": {
      "displayName": "Matt Scruggs",
      "userId": "15062721702591421463"
     },
     "user_tz": 360
    },
    "id": "0o2lVVU_Wnll",
    "outputId": "8bb5de02-8164-4eb9-a70d-1a40c08a57b5"
   },
   "outputs": [
    {
     "data": {
      "text/html": [
       "<div>\n",
       "<style scoped>\n",
       "    .dataframe tbody tr th:only-of-type {\n",
       "        vertical-align: middle;\n",
       "    }\n",
       "\n",
       "    .dataframe tbody tr th {\n",
       "        vertical-align: top;\n",
       "    }\n",
       "\n",
       "    .dataframe thead th {\n",
       "        text-align: right;\n",
       "    }\n",
       "</style>\n",
       "<table border=\"1\" class=\"dataframe\">\n",
       "  <thead>\n",
       "    <tr style=\"text-align: right;\">\n",
       "      <th>surveillance_network</th>\n",
       "      <th>COVID-NET</th>\n",
       "      <th>Combined</th>\n",
       "      <th>FluSurv-NET</th>\n",
       "      <th>RSV-NET</th>\n",
       "    </tr>\n",
       "    <tr>\n",
       "      <th>week</th>\n",
       "      <th></th>\n",
       "      <th></th>\n",
       "      <th></th>\n",
       "      <th></th>\n",
       "    </tr>\n",
       "  </thead>\n",
       "  <tbody>\n",
       "    <tr>\n",
       "      <th>2018-10-06</th>\n",
       "      <td>NaN</td>\n",
       "      <td>0.2</td>\n",
       "      <td>0.1</td>\n",
       "      <td>0.1</td>\n",
       "    </tr>\n",
       "    <tr>\n",
       "      <th>2018-10-13</th>\n",
       "      <td>NaN</td>\n",
       "      <td>0.3</td>\n",
       "      <td>0.1</td>\n",
       "      <td>0.2</td>\n",
       "    </tr>\n",
       "    <tr>\n",
       "      <th>2018-10-20</th>\n",
       "      <td>NaN</td>\n",
       "      <td>0.3</td>\n",
       "      <td>0.1</td>\n",
       "      <td>0.2</td>\n",
       "    </tr>\n",
       "    <tr>\n",
       "      <th>2018-10-27</th>\n",
       "      <td>NaN</td>\n",
       "      <td>0.4</td>\n",
       "      <td>0.1</td>\n",
       "      <td>0.3</td>\n",
       "    </tr>\n",
       "    <tr>\n",
       "      <th>2018-11-03</th>\n",
       "      <td>NaN</td>\n",
       "      <td>0.5</td>\n",
       "      <td>0.2</td>\n",
       "      <td>0.3</td>\n",
       "    </tr>\n",
       "  </tbody>\n",
       "</table>\n",
       "</div>"
      ],
      "text/plain": [
       "surveillance_network  COVID-NET  Combined  FluSurv-NET  RSV-NET\n",
       "week                                                           \n",
       "2018-10-06                  NaN       0.2          0.1      0.1\n",
       "2018-10-13                  NaN       0.3          0.1      0.2\n",
       "2018-10-20                  NaN       0.3          0.1      0.2\n",
       "2018-10-27                  NaN       0.4          0.1      0.3\n",
       "2018-11-03                  NaN       0.5          0.2      0.3"
      ]
     },
     "execution_count": 26,
     "metadata": {},
     "output_type": "execute_result"
    }
   ],
   "source": [
    "rate_data= filtered_data.drop(columns = '_weekenddate').set_index('week').pivot(columns = 'surveillance_network', values='weekly_rate')\n",
    "rate_data.head()"
   ]
  },
  {
   "cell_type": "code",
   "execution_count": 27,
   "metadata": {
    "colab": {
     "base_uri": "https://localhost:8080/",
     "height": 637
    },
    "executionInfo": {
     "elapsed": 996,
     "status": "ok",
     "timestamp": 1703196126726,
     "user": {
      "displayName": "Matt Scruggs",
      "userId": "15062721702591421463"
     },
     "user_tz": 360
    },
    "id": "09VNfPd6Wxme",
    "outputId": "5f12d6bc-dd60-4389-8cfb-f7e8d30f13d2"
   },
   "outputs": [
    {
     "data": {
      "text/plain": [
       "<matplotlib.legend.Legend at 0x1cb3acb5ca0>"
      ]
     },
     "execution_count": 27,
     "metadata": {},
     "output_type": "execute_result"
    },
    {
     "data": {
      "image/png": "[encoded data removed]",
      "text/plain": [
       "<Figure size 1152x576 with 1 Axes>"
      ]
     },
     "metadata": {
      "needs_background": "light"
     },
     "output_type": "display_data"
    }
   ],
   "source": [
    "fig, ax = plt.subplots(figsize = (16,8))\n",
    "ax.plot(rate_data)\n",
    "fig.autofmt_xdate()\n",
    "plt.legend(['COVID-NET','Combined','FluSurv-Net', 'RSV-NET'], loc='upper right')"
   ]
  },
  {
   "cell_type": "markdown",
   "metadata": {
    "id": "HaM3voUGZ_ub"
   },
   "source": [
    "# Percent of Positive Test Results"
   ]
  },
  {
   "cell_type": "code",
   "execution_count": 28,
   "metadata": {
    "executionInfo": {
     "elapsed": 970,
     "status": "ok",
     "timestamp": 1703196570163,
     "user": {
      "displayName": "Matt Scruggs",
      "userId": "15062721702591421463"
     },
     "user_tz": 360
    },
    "id": "D3WtahZpbHQk"
   },
   "outputs": [],
   "source": [
    "test_results = client.get(\"seuz-s2cv\", limit = 100000)"
   ]
  },
  {
   "cell_type": "code",
   "execution_count": 29,
   "metadata": {
    "colab": {
     "base_uri": "https://localhost:8080/"
    },
    "executionInfo": {
     "elapsed": 556,
     "status": "ok",
     "timestamp": 1703196593335,
     "user": {
      "displayName": "Matt Scruggs",
      "userId": "15062721702591421463"
     },
     "user_tz": 360
    },
    "id": "3zEdB3uebV6x",
    "outputId": "09c38ef0-49d4-411c-a542-850a4c96af48"
   },
   "outputs": [
    {
     "name": "stdout",
     "output_type": "stream",
     "text": [
      "(201, 3)\n",
      "week_end                   object\n",
      "pathogen                   object\n",
      "percent_test_positivity    object\n",
      "dtype: object\n"
     ]
    },
    {
     "data": {
      "text/plain": [
       "Index(['week_end', 'pathogen', 'percent_test_positivity'], dtype='object')"
      ]
     },
     "execution_count": 29,
     "metadata": {},
     "output_type": "execute_result"
    }
   ],
   "source": [
    "full_data=pd.DataFrame.from_records(test_results)\n",
    "print(full_data.shape)\n",
    "print(full_data.dtypes)\n",
    "full_data.columns"
   ]
  },
  {
   "cell_type": "code",
   "execution_count": 30,
   "metadata": {
    "colab": {
     "base_uri": "https://localhost:8080/",
     "height": 238
    },
    "executionInfo": {
     "elapsed": 193,
     "status": "ok",
     "timestamp": 1703196808330,
     "user": {
      "displayName": "Matt Scruggs",
      "userId": "15062721702591421463"
     },
     "user_tz": 360
    },
    "id": "lLw1OM4HbxCN",
    "outputId": "2294bf9e-c48a-42c9-d036-fa3b38325a83"
   },
   "outputs": [
    {
     "data": {
      "text/html": [
       "<div>\n",
       "<style scoped>\n",
       "    .dataframe tbody tr th:only-of-type {\n",
       "        vertical-align: middle;\n",
       "    }\n",
       "\n",
       "    .dataframe tbody tr th {\n",
       "        vertical-align: top;\n",
       "    }\n",
       "\n",
       "    .dataframe thead th {\n",
       "        text-align: right;\n",
       "    }\n",
       "</style>\n",
       "<table border=\"1\" class=\"dataframe\">\n",
       "  <thead>\n",
       "    <tr style=\"text-align: right;\">\n",
       "      <th>pathogen</th>\n",
       "      <th>COVID-19</th>\n",
       "      <th>Influenza</th>\n",
       "      <th>RSV</th>\n",
       "    </tr>\n",
       "    <tr>\n",
       "      <th>week</th>\n",
       "      <th></th>\n",
       "      <th></th>\n",
       "      <th></th>\n",
       "    </tr>\n",
       "  </thead>\n",
       "  <tbody>\n",
       "    <tr>\n",
       "      <th>2022-10-01</th>\n",
       "      <td>6.9</td>\n",
       "      <td>2.0</td>\n",
       "      <td>10.2</td>\n",
       "    </tr>\n",
       "    <tr>\n",
       "      <th>2022-10-08</th>\n",
       "      <td>6.9</td>\n",
       "      <td>2.7</td>\n",
       "      <td>12.5</td>\n",
       "    </tr>\n",
       "    <tr>\n",
       "      <th>2022-10-15</th>\n",
       "      <td>7.1</td>\n",
       "      <td>3.5</td>\n",
       "      <td>14.6</td>\n",
       "    </tr>\n",
       "    <tr>\n",
       "      <th>2022-10-22</th>\n",
       "      <td>6.8</td>\n",
       "      <td>5.4</td>\n",
       "      <td>16.5</td>\n",
       "    </tr>\n",
       "    <tr>\n",
       "      <th>2022-10-29</th>\n",
       "      <td>6.9</td>\n",
       "      <td>8.4</td>\n",
       "      <td>18.3</td>\n",
       "    </tr>\n",
       "  </tbody>\n",
       "</table>\n",
       "</div>"
      ],
      "text/plain": [
       "pathogen    COVID-19  Influenza   RSV\n",
       "week                                 \n",
       "2022-10-01       6.9        2.0  10.2\n",
       "2022-10-08       6.9        2.7  12.5\n",
       "2022-10-15       7.1        3.5  14.6\n",
       "2022-10-22       6.8        5.4  16.5\n",
       "2022-10-29       6.9        8.4  18.3"
      ]
     },
     "execution_count": 30,
     "metadata": {},
     "output_type": "execute_result"
    }
   ],
   "source": [
    "full_data= full_data.astype({'percent_test_positivity' : 'float64'})\n",
    "full_data['week']=pd.to_datetime(full_data['week_end'])\n",
    "test_data= full_data.drop(columns = 'week_end').set_index('week').pivot(columns = 'pathogen', values='percent_test_positivity')\n",
    "test_data.head()"
   ]
  },
  {
   "cell_type": "code",
   "execution_count": 31,
   "metadata": {
    "colab": {
     "base_uri": "https://localhost:8080/",
     "height": 693
    },
    "executionInfo": {
     "elapsed": 891,
     "status": "ok",
     "timestamp": 1703196888344,
     "user": {
      "displayName": "Matt Scruggs",
      "userId": "15062721702591421463"
     },
     "user_tz": 360
    },
    "id": "K5RwV-C-cOKf",
    "outputId": "3475fa64-b334-4bb6-8101-15956871328c"
   },
   "outputs": [
    {
     "data": {
      "text/plain": [
       "<matplotlib.legend.Legend at 0x1cb36b2ac40>"
      ]
     },
     "execution_count": 31,
     "metadata": {},
     "output_type": "execute_result"
    },
    {
     "data": {
      "image/png": "[encoded data removed]",
      "text/plain": [
       "<Figure size 1152x576 with 1 Axes>"
      ]
     },
     "metadata": {
      "needs_background": "light"
     },
     "output_type": "display_data"
    }
   ],
   "source": [
    "fix, ax= plt.subplots(figsize = (16,8))\n",
    "ax.plot(test_data)\n",
    "fig.autofmt_xdate()\n",
    "plt.legend(['COVID-19','Influenza', 'RSV'], loc='upper right')"
   ]
  },
  {
   "cell_type": "code",
   "execution_count": null,
   "metadata": {},
   "outputs": [],
   "source": []
  }
 ],
 "metadata": {
  "colab": {
   "authorship_tag": "ABX9TyNT8Ydni5V0yoQwBVmtaMzc",
   "provenance": [],
   "toc_visible": true
  },
  "kernelspec": {
   "display_name": "Python 3 (ipykernel)",
   "language": "python",
   "name": "python3"
  },
  "language_info": {
   "codemirror_mode": {
    "name": "ipython",
    "version": 3
   },
   "file_extension": ".py",
   "mimetype": "text/x-python",
   "name": "python",
   "nbconvert_exporter": "python",
   "pygments_lexer": "ipython3",
   "version": "3.9.5"
  }
 },
 "nbformat": 4,
 "nbformat_minor": 1
}
